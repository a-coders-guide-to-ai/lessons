{
 "cells": [
  {
   "cell_type": "markdown",
   "metadata": {
    "id": "11xWcNaGsNy2"
   },
   "source": [
    "# Made Easy - How to Make Sense of Weight Decay\n",
    "-----------\n",
    "\n",
    "Weight decay, aka L2 regularization, aka ridge regression... why does it have so many names? Your guess is as good as mine. Like many other deep learning concepts, it's a fancy term for a simple concept (in practice). It's also something which took me a very long time to really understand, because it was cluttered behind all this math. If you're having the same struggle I was having, then I'm hoping this article ends your search."
   ]
  },
  {
   "cell_type": "markdown",
   "metadata": {
    "id": "Bg6unzcCDSp3"
   },
   "source": [
    "## What is it?\n",
    "\n",
    "Let's start off with what weight decay is. Weight decay is a regularization technique (another fancy term). What does that mean? It basically means that it helps our machine learning model to not overfit (overfitting is explained below)."
   ]
  },
  {
   "cell_type": "markdown",
   "metadata": {
    "id": "0GF3EawYELu_"
   },
   "source": [
    "## How does it work?\n",
    "\n",
    "The above is all good and well, but how does it work? It works by adding the squared sum of our weights (multiplied by a hyperparameter) to our loss function.\n",
    "\n",
    "The above sounds a little complicated, so let's go through it in code."
   ]
  },
  {
   "cell_type": "markdown",
   "metadata": {
    "id": "1ick-j4BXa-6"
   },
   "source": [
    "## How does it work (in code)?\n",
    "\n",
    "As always, let's start off by importing the required libraries."
   ]
  },
  {
   "cell_type": "code",
   "execution_count": null,
   "metadata": {
    "id": "pFx9UfmVEYDU"
   },
   "outputs": [],
   "source": [
    "import torch\n",
    "import matplotlib.pyplot as plt\n",
    "import torch.nn as nn\n",
    "from sklearn.model_selection import train_test_split"
   ]
  },
  {
   "cell_type": "markdown",
   "metadata": {
    "id": "9kMRhxlSGIBZ"
   },
   "source": [
    "Now that we have that out of the way, let's get some data. For the purposes of this article, we can get away with making our own data using PyTorch's randn function.\n",
    "\n",
    "We'll create a tensor having the shape 1000x1000 for the features (X) using PyTorch's randn function. Along with that, we'll also create our target tensor (y). The target tensor will be binary (i.e., only 2 values). To accomplish that, we'll set half the tensor to 0 and the other half to 1. "
   ]
  },
  {
   "cell_type": "code",
   "execution_count": null,
   "metadata": {
    "id": "7rsM31gtM7L1"
   },
   "outputs": [],
   "source": [
    "dim = 1000\n",
    "X = torch.randn((dim,dim), dtype=float)\n",
    "y = torch.cat((torch.zeros(dim//2, dtype=float), torch.ones(dim//2, dtype=float)))"
   ]
  },
  {
   "cell_type": "markdown",
   "metadata": {
    "id": "vufVZYtNHYne"
   },
   "source": [
    "Let's use sklearn's train_test_split function to shuffle our data and split into a train and test set. We'll allocate 33% of the data for testing and the other 66% of it for training."
   ]
  },
  {
   "cell_type": "code",
   "execution_count": null,
   "metadata": {
    "id": "5Qxz1XmQJbV0"
   },
   "outputs": [],
   "source": [
    "X_train, X_test, y_train, y_test = train_test_split(X, y, test_size=0.33, random_state=42)"
   ]
  },
  {
   "cell_type": "markdown",
   "metadata": {
    "id": "AzF6TtiEHpnk"
   },
   "source": [
    "Now that we have that out of the way, let's create a simple model. It will consist of only 1 hidden layer. The hidden layer will be half the size of the input layer (i.e., 500). We'll also use the sigmoid function as our activation function for the hidden layer and the last layer."
   ]
  },
  {
   "cell_type": "code",
   "execution_count": null,
   "metadata": {
    "id": "rjG4EgdkK5_D"
   },
   "outputs": [],
   "source": [
    "class Model(nn.Module):\n",
    "\n",
    "    def __init__(self, dim):\n",
    "        super().__init__()\n",
    "        self.hidden_layer = nn.Linear(dim, dim//2)\n",
    "        self.last_layer = nn.Linear(dim//2, 1)\n",
    "        self.sigmoid = nn.Sigmoid()\n",
    "\n",
    "    def forward(self, X):\n",
    "        out = self.sigmoid(self.hidden_layer(X))\n",
    "        out = self.sigmoid(self.last_layer(out))\n",
    "        return out"
   ]
  },
  {
   "cell_type": "markdown",
   "metadata": {
    "id": "gkc4DTR9INAg"
   },
   "source": [
    "We're almost ready to train our model. Let's instantiate our Model class, set our loss to BCELoss (because our target is binary) and set our optimizer to SGD. We'll train for 1000 epochs at a learning rate of 1e-1."
   ]
  },
  {
   "cell_type": "code",
   "execution_count": null,
   "metadata": {
    "id": "x9kI_MiWtbYw"
   },
   "outputs": [],
   "source": [
    "model = Model(dim)\n",
    "bce = nn.BCELoss()\n",
    "optimizer = torch.optim.SGD(model.parameters(), lr = 1e-1)\n",
    "epochs = 1000"
   ]
  },
  {
   "cell_type": "markdown",
   "metadata": {
    "id": "7xzEcDLtIf_s"
   },
   "source": [
    "Let's train our model! While training, we'll print out our loss (i.e., BCE) at every 100 epochs, allowing us to have an insight on our model's performance during training."
   ]
  },
  {
   "cell_type": "code",
   "execution_count": null,
   "metadata": {
    "colab": {
     "base_uri": "https://localhost:8080/"
    },
    "id": "sN2Yx5S2tgVf",
    "outputId": "71667364-ec9d-41df-89ce-2e95bee4b8b0"
   },
   "outputs": [
    {
     "name": "stdout",
     "output_type": "stream",
     "text": [
      "Train: epoch: 0 - loss: 0.69640\n",
      "Test: epoch: 0 - loss: 0.70919\n",
      "Train: epoch: 100 - loss: 1.11392\n",
      "Test: epoch: 100 - loss: 1.35615\n",
      "Train: epoch: 200 - loss: 0.20923\n",
      "Test: epoch: 200 - loss: 0.91265\n",
      "Train: epoch: 300 - loss: 0.10423\n",
      "Test: epoch: 300 - loss: 1.15172\n",
      "Train: epoch: 400 - loss: 0.05922\n",
      "Test: epoch: 400 - loss: 1.36622\n",
      "Train: epoch: 500 - loss: 0.03818\n",
      "Test: epoch: 500 - loss: 1.53844\n",
      "Train: epoch: 600 - loss: 0.02698\n",
      "Test: epoch: 600 - loss: 1.67684\n",
      "Train: epoch: 700 - loss: 0.02034\n",
      "Test: epoch: 700 - loss: 1.79067\n",
      "Train: epoch: 800 - loss: 0.01605\n",
      "Test: epoch: 800 - loss: 1.88655\n",
      "Train: epoch: 900 - loss: 0.01311\n",
      "Test: epoch: 900 - loss: 1.96896\n",
      "Train: epoch: 1000 - loss: 0.01099\n",
      "Test: epoch: 1000 - loss: 2.04100\n"
     ]
    }
   ],
   "source": [
    "train_loss = []\n",
    "test_loss = []\n",
    "\n",
    "for epoch in range(epochs+1):\n",
    "    model.train()\n",
    "    y_pred = model(X_train.float())\n",
    "    loss = bce(y_pred, y_train.reshape(-1,1).float())\n",
    "    train_loss.append(loss.sum())\n",
    "\n",
    "    optimizer.zero_grad()\n",
    "    loss.backward()\n",
    "    optimizer.step()\n",
    "\n",
    "    if(epoch % 100 == 0):\n",
    "        print('Train: epoch: {0} - loss: {1:.5f}'.format(epoch, train_loss[-1]))\n",
    "  \n",
    "    model.eval()\n",
    "    with torch.no_grad():\n",
    "        y_pred = model(X_test.float())\n",
    "        loss = bce(y_pred, y_test.reshape(-1,1).float())\n",
    "        test_loss.append(loss)\n",
    "\n",
    "        if(epoch % 100 == 0):\n",
    "            print('Test: epoch: {0} - loss: {1:.5f}'.format(epoch, test_loss[-1]))"
   ]
  },
  {
   "cell_type": "markdown",
   "metadata": {
    "id": "kGPsQGqDI4Ab"
   },
   "source": [
    "Interesting... Plotting my training and test loss always helps me to better visualize it, so let's use matplotlib to do that."
   ]
  },
  {
   "cell_type": "code",
   "execution_count": null,
   "metadata": {
    "colab": {
     "base_uri": "https://localhost:8080/",
     "height": 265
    },
    "id": "xN0OaUEgtmgZ",
    "outputId": "3355602d-912b-40a2-cfc4-59902aec468a"
   },
   "outputs": [
    {
     "data": {
      "image/png": "[encoded data removed]",
      "text/plain": [
       "<Figure size 432x288 with 1 Axes>"
      ]
     },
     "metadata": {
      "needs_background": "light",
      "tags": []
     },
     "output_type": "display_data"
    }
   ],
   "source": [
    "plt.plot(train_loss)\n",
    "plt.plot(test_loss)\n",
    "plt.show()"
   ]
  },
  {
   "cell_type": "markdown",
   "metadata": {
    "id": "s3ALRbZxJKjr"
   },
   "source": [
    "That's unfortunate. Our model is clearly overfitting (i.e., as our loss on our training set goes down, our loss on our test set actually gets worse).\n",
    "\n",
    "So how do we stop our model from overfitting? One solution would be to get more data, but unfortunately, that's not always possible. Even if it is possible, it may not be that easy to get a hold of the extra data. What now? Well, we can always use weight decay.\n",
    "\n",
    "If you remember from above, I mentioned that weight decay is when we add the squared sum of our weights (multiplied by a hyperparameter) to our loss function.\n",
    "\n",
    "I'm going to let you look at the slide below, which a stole from Andrew Ng's deep learning course, and hopefully you get it."
   ]
  },
  {
   "cell_type": "markdown",
   "metadata": {
    "id": "GhalEyH0MK0x"
   },
   "source": [
    "<img src=\"images/l2%20screenshot.png?raw=true\"  width=\"1000\" height=\"1000\">"
   ]
  },
  {
   "cell_type": "markdown",
   "metadata": {
    "id": "Fvnp479zLxqz"
   },
   "source": [
    "Yeah... that doesn't really help. If you're anything like me, then slides like the 1 above are probably the reason why you've been struggling with weight decay this entire time.\n",
    "\n",
    "If you take a closer look at the slide, you'll see that I circled 2 equations. The equation circled in violet is the actual equation for weight decay, and the equation circled in red is the equation used during backpropagation to update the weights.\n",
    "\n",
    "We're going to throw away the actual equation (circled in violet) and put all our attention towards the equation used in backpropagation, specifically, this portion of the equation."
   ]
  },
  {
   "cell_type": "markdown",
   "metadata": {
    "id": "odKKuJEKN_Co"
   },
   "source": [
    "<img src=\"images/l2%20backprop.PNG?raw=true\"  width=\"500\" height=\"500\">"
   ]
  },
  {
   "cell_type": "markdown",
   "metadata": {
    "id": "LrZEJ67bN_b2"
   },
   "source": [
    "If you haven't realized yet, the equation above is the exact same equation used for the original backpropagation (without weight decay), except it has the weights multiplied by a fraction (λ (i.e., lambda) divided by the number of rows) tacked on at the end.\n",
    "\n",
    "Keeping the above in mind, we're going to do some simple math here. We're going to state the following:\n",
    "\n",
    "wd = λ/m\n",
    "\n",
    "Now that we did that, we're going to put a restriction on wd saying that wd must be a value between 0 and 1. If wd is a value between 0 and 1, then any value that it multiplies with will make that value smaller. In other words, it will decay it. Replacing λ/m with wd, our new equation looks like the following:\n",
    "\n",
    "(equation from backpropagation) + wd*w\n",
    "\n",
    "I want you to ask yourself a question here; what is wd multiplying with? It's multiplying with w. And what does w represent? It represents the weights. I'm hoping something clicked there in your mind. If wd decays anything it multiplies with and the thing it's multiplying with are the weights, then it's decaying the weights... weight decay!\n",
    "\n",
    "Finally, it makes sense! But how do we do that in PyTorch?\n",
    "\n",
    "Let's do a few things before we answer that question. We're going to reinstantiate our model, loss and optimizer. We'll also add an extra variable by the name of weight_decay and set that to 1e-1."
   ]
  },
  {
   "cell_type": "code",
   "execution_count": null,
   "metadata": {
    "id": "tzh27OTVMwEV"
   },
   "outputs": [],
   "source": [
    "model = Model(dim)\n",
    "bce = nn.BCELoss()\n",
    "optimizer = torch.optim.SGD(model.parameters(), lr = 1e-1)\n",
    "weight_decay = 1e-1"
   ]
  },
  {
   "cell_type": "markdown",
   "metadata": {
    "id": "_EIVRyazSJAn"
   },
   "source": [
    "Now that we got that out of the way, how do we access the backpropagation equation to adjust it for weight decay. If you recall, the backpropagation equation is also known as the gradient and the gradient is set on the weights (with requires_grad=True). So how do we access that? If you take a look at the code cell above, you'll see that we're passing the model parameters to the SGD optimizer. Those parameters are our weights (and our bias). To access the gradients of those weights, all we have to do is call \".grad\" on them. Once we get a hold of those, we can just add our weight decay equation to the end of it.\n",
    "\n",
    "Let's see how we can do it in code. Let's train our model with weight decay.\n",
    "\n",
    "Note: the equation for weight decay is a little different for the Adam optimizer, but it follows the same principle as SGD."
   ]
  },
  {
   "cell_type": "code",
   "execution_count": null,
   "metadata": {
    "colab": {
     "base_uri": "https://localhost:8080/"
    },
    "id": "LWCzJ_rTMlTy",
    "outputId": "bfb46d03-64d4-4179-9bac-d45d04783fbf"
   },
   "outputs": [
    {
     "name": "stdout",
     "output_type": "stream",
     "text": [
      "Train: epoch: 0 - loss: 0.69296\n",
      "Test: epoch: 0 - loss: 0.69721\n",
      "Train: epoch: 100 - loss: 1.37870\n",
      "Test: epoch: 100 - loss: 1.43117\n",
      "Train: epoch: 200 - loss: 1.28452\n",
      "Test: epoch: 200 - loss: 1.41049\n",
      "Train: epoch: 300 - loss: 1.10652\n",
      "Test: epoch: 300 - loss: 1.36360\n",
      "Train: epoch: 400 - loss: 0.88044\n",
      "Test: epoch: 400 - loss: 1.26943\n",
      "Train: epoch: 500 - loss: 0.76552\n",
      "Test: epoch: 500 - loss: 1.21283\n",
      "Train: epoch: 600 - loss: 0.73315\n",
      "Test: epoch: 600 - loss: 1.19893\n",
      "Train: epoch: 700 - loss: 0.72321\n",
      "Test: epoch: 700 - loss: 1.19543\n",
      "Train: epoch: 800 - loss: 0.71966\n",
      "Test: epoch: 800 - loss: 1.19431\n",
      "Train: epoch: 900 - loss: 0.71829\n",
      "Test: epoch: 900 - loss: 1.19389\n",
      "Train: epoch: 1000 - loss: 0.71773\n",
      "Test: epoch: 1000 - loss: 1.19371\n"
     ]
    }
   ],
   "source": [
    "train_loss = []\n",
    "test_loss = []\n",
    "\n",
    "for epoch in range(epochs+1):\n",
    "    model.train()\n",
    "    y_pred = model(X_train.float())\n",
    "    loss = bce(y_pred, y_train.reshape(-1,1).float())\n",
    "    train_loss.append(loss.sum())\n",
    "\n",
    "    optimizer.zero_grad()\n",
    "    loss.backward()\n",
    "    for w in model.parameters():\n",
    "        w.grad.add_(w, alpha=weight_decay) # synonymous to: w.grad += w*weight_decay\n",
    "    optimizer.step()\n",
    "\n",
    "    if(epoch % 100 == 0):\n",
    "        print('Train: epoch: {0} - loss: {1:.5f}'.format(epoch, train_loss[-1]))\n",
    "  \n",
    "    model.eval()\n",
    "    with torch.no_grad():\n",
    "        y_pred = model(X_test.float())\n",
    "        loss = bce(y_pred, y_test.reshape(-1,1).float())\n",
    "        test_loss.append(loss)\n",
    "\n",
    "        if(epoch % 100 == 0):\n",
    "            print('Test: epoch: {0} - loss: {1:.5f}'.format(epoch, test_loss[-1]))"
   ]
  },
  {
   "cell_type": "markdown",
   "metadata": {
    "id": "N62Z2sd9TzwU"
   },
   "source": [
    "As you can see, we iterate over the parameters (i.e., the weights and bias), get the equation of backpropagation from it (i.e., w.grad) and add weight_day*w to it. That's it! That's weight decay!\n",
    "\n",
    "Let's plot our results."
   ]
  },
  {
   "cell_type": "code",
   "execution_count": null,
   "metadata": {
    "colab": {
     "base_uri": "https://localhost:8080/",
     "height": 268
    },
    "id": "b7xoyyLoOprZ",
    "outputId": "37d31f6d-6472-490c-e343-1b426b9981b7"
   },
   "outputs": [
    {
     "data": {
      "image/png": "[encoded data removed]",
      "text/plain": [
       "<Figure size 432x288 with 1 Axes>"
      ]
     },
     "metadata": {
      "needs_background": "light",
      "tags": []
     },
     "output_type": "display_data"
    }
   ],
   "source": [
    "plt.plot(train_loss)\n",
    "plt.plot(test_loss)\n",
    "plt.show()"
   ]
  },
  {
   "cell_type": "markdown",
   "metadata": {
    "id": "xDSOk923UrCQ"
   },
   "source": [
    "As you can see from our plot, the model is no longer overfitting our training set."
   ]
  },
  {
   "cell_type": "markdown",
   "metadata": {
    "id": "NDEOjrSBXnHZ"
   },
   "source": [
    "## PyTorch's built-in weight decay\n",
    "\n",
    "Thanks to the team at PyTorch, the optimizers already come with the built-in functionality of weight decay. All we have to do is set it when making our optimizer, such as I've done below."
   ]
  },
  {
   "cell_type": "code",
   "execution_count": null,
   "metadata": {
    "id": "r5Q09jeets4x"
   },
   "outputs": [],
   "source": [
    "model = Model(dim)\n",
    "bce = nn.BCELoss()\n",
    "optimizer = torch.optim.SGD(model.parameters(), lr = 1e-1, weight_decay=1e-1)"
   ]
  },
  {
   "cell_type": "markdown",
   "metadata": {
    "id": "eAmcydiwVJSf"
   },
   "source": [
    "Let's train our model again, but this time using PyTorch's built-in weight decay."
   ]
  },
  {
   "cell_type": "code",
   "execution_count": null,
   "metadata": {
    "colab": {
     "base_uri": "https://localhost:8080/"
    },
    "id": "zSoY-xABPylL",
    "outputId": "e9729a5a-a7db-47ec-ea3d-f925fe15b904"
   },
   "outputs": [
    {
     "name": "stdout",
     "output_type": "stream",
     "text": [
      "Train: epoch: 0 - loss: 0.70713\n",
      "Test: epoch: 0 - loss: 0.75445\n",
      "Train: epoch: 100 - loss: 1.38277\n",
      "Test: epoch: 100 - loss: 1.43209\n",
      "Train: epoch: 200 - loss: 1.29256\n",
      "Test: epoch: 200 - loss: 1.41250\n",
      "Train: epoch: 300 - loss: 1.12141\n",
      "Test: epoch: 300 - loss: 1.36892\n",
      "Train: epoch: 400 - loss: 0.89357\n",
      "Test: epoch: 400 - loss: 1.27613\n",
      "Train: epoch: 500 - loss: 0.76997\n",
      "Test: epoch: 500 - loss: 1.21521\n",
      "Train: epoch: 600 - loss: 0.73462\n",
      "Test: epoch: 600 - loss: 1.19976\n",
      "Train: epoch: 700 - loss: 0.72389\n",
      "Test: epoch: 700 - loss: 1.19591\n",
      "Train: epoch: 800 - loss: 0.72007\n",
      "Test: epoch: 800 - loss: 1.19468\n",
      "Train: epoch: 900 - loss: 0.71860\n",
      "Test: epoch: 900 - loss: 1.19422\n",
      "Train: epoch: 1000 - loss: 0.71800\n",
      "Test: epoch: 1000 - loss: 1.19403\n"
     ]
    }
   ],
   "source": [
    "train_loss = []\n",
    "test_loss = []\n",
    "\n",
    "for epoch in range(epochs+1):\n",
    "    model.train()\n",
    "    y_pred = model(X_train.float())\n",
    "    loss = bce(y_pred, y_train.reshape(-1,1).float())\n",
    "    train_loss.append(loss.sum())\n",
    "\n",
    "    optimizer.zero_grad()\n",
    "    loss.backward()\n",
    "    optimizer.step()\n",
    "\n",
    "    if(epoch % 100 == 0):\n",
    "        print('Train: epoch: {0} - loss: {1:.5f}'.format(epoch, train_loss[-1]))\n",
    "  \n",
    "    model.eval()\n",
    "    with torch.no_grad():\n",
    "        y_pred = model(X_test.float())\n",
    "        loss = bce(y_pred, y_test.reshape(-1,1).float())\n",
    "        test_loss.append(loss)\n",
    "\n",
    "        if(epoch % 100 == 0):\n",
    "            print('Test: epoch: {0} - loss: {1:.5f}'.format(epoch, test_loss[-1]))"
   ]
  },
  {
   "cell_type": "markdown",
   "metadata": {
    "id": "Ia3CHr5QVPsC"
   },
   "source": [
    "Let's plot our graph for a clearer picture."
   ]
  },
  {
   "cell_type": "code",
   "execution_count": null,
   "metadata": {
    "colab": {
     "base_uri": "https://localhost:8080/",
     "height": 265
    },
    "id": "fO1J_I90uPVG",
    "outputId": "74cba32b-504d-483c-c3ab-a64e7d6e22ec"
   },
   "outputs": [
    {
     "data": {
      "image/png": "[encoded data removed]",
      "text/plain": [
       "<Figure size 432x288 with 1 Axes>"
      ]
     },
     "metadata": {
      "needs_background": "light",
      "tags": []
     },
     "output_type": "display_data"
    }
   ],
   "source": [
    "plt.plot(train_loss)\n",
    "plt.plot(test_loss)\n",
    "plt.show()"
   ]
  },
  {
   "cell_type": "markdown",
   "metadata": {
    "id": "ADi7h0aCVcCm"
   },
   "source": [
    "Awesome! As expected, it works the exact same way as the weight decay we coded ourselves!"
   ]
  },
  {
   "cell_type": "markdown",
   "metadata": {
    "id": "rVBUEJm-X0ec"
   },
   "source": [
    "## What values should I use?\n",
    "\n",
    "Weight decay is a hyperparameter which you will need to tune for your own specific case. As we said above, it needs to be a value between 0 and 1. Generally, in practice, the values of 1 to the power of negative values are often used (e.g., 1e-1, 1e-2, etc.)."
   ]
  },
  {
   "cell_type": "markdown",
   "metadata": {
    "id": "MgF8wqn1X28n"
   },
   "source": [
    "And that's the end of weight decay. Hope the article helped clear up any confusions you may have had."
   ]
  }
 ],
 "metadata": {
  "colab": {
   "name": "Made Easy - How to Make Sense of Weight Decay.ipynb",
   "provenance": []
  },
  "kernelspec": {
   "display_name": "Python 3",
   "language": "python",
   "name": "python3"
  },
  "language_info": {
   "codemirror_mode": {
    "name": "ipython",
    "version": 3
   },
   "file_extension": ".py",
   "mimetype": "text/x-python",
   "name": "python",
   "nbconvert_exporter": "python",
   "pygments_lexer": "ipython3",
   "version": "3.7.1"
  }
 },
 "nbformat": 4,
 "nbformat_minor": 1
}
