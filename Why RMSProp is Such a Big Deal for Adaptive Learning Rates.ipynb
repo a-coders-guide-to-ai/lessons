{
 "cells": [
  {
   "cell_type": "markdown",
   "metadata": {
    "id": "RK16HcJMPD6v"
   },
   "source": [
    "# Why RMSProp is Such a Big Deal for Adaptive Learning Rates\n",
    "-----------------------\n",
    "\n",
    "\n",
    "In this article we're going to be discussing RMSProp – an equation which dynamically adjusts the learning rate for neural networks. It was first introduced by Geoffrey Hinton in [his Coursera course](https://www.cs.toronto.edu/~tijmen/csc321/slides/lecture_slides_lec6.pdf), and, like much of Professor Hinton's work, has since been very influential in the world of deep learning. In terms of the equation, it looks very similar to the momentum equation (you can check out [my momentum article](https://cutt.ly/cg2ai-momentum-medium) in case you missed it), but the minor differences is what sets it apart.\n",
    "\n",
    "Here’s the equation for momentum:<br/>\n",
    "*constant(velocity) + (1-constant)(gradients)*\n",
    "\n",
    "And here’s RMSProp's equation:<br/>\n",
    "*constant(velocity) + (1-constant)(gradients^2)*\n",
    "\n",
    "I wasn't lying when I said the equations look very similar. Both of them are their own flavors exponentially weighted average equations (please refer to [my momentum article](https://cutt.ly/cg2ai-momentum-medium) for further explanation for a further in-depth explanation of exponentially weighted average).\n",
    "\n",
    "So what makes RMSProp so different? Why is it that we're using an almost identical equation, but giving it a different name and calling it potentially better? First, let's go over how the equation differs and then we can get into the implementation.\n",
    "\n",
    "As you can see from above, the only difference between the 2 equations is that 1 squares the gradients (i.e., RMSProp) while the other (i.e., momentum) doesn't. What difference does that make?\n",
    "\n",
    "Better than explaining with words, let's plug some numbers in and see what happens.\n",
    "\n",
    "For this exercise, we'll randomly choose a number between 0 and 100 for each of the 5 iterations and keep adding it to the equation. It'll give us an understanding of how the 2 perform quite differently. We'll take the square root of the RMSProp equation as our output, because that's how it's used in its implementation (discussed further below)."
   ]
  },
  {
   "cell_type": "code",
   "execution_count": 1,
   "metadata": {
    "colab": {
     "base_uri": "https://localhost:8080/"
    },
    "id": "RrOZr29FPyvT",
    "outputId": "0d94c398-6a9b-47f1-9a47-99243f38ded9"
   },
   "outputs": [
    {
     "name": "stdout",
     "output_type": "stream",
     "text": [
      "gradient: 46 - rmsprop: 4.600000; momentum: 0.460000\n",
      "gradient: 63 - rmsprop: 7.787066; momentum: 1.085400\n",
      "gradient: 67 - rmsprop: 10.243145; momentum: 1.744546\n",
      "gradient: 2 - rmsprop: 10.193763; momentum: 1.747101\n",
      "gradient: 47 - rmsprop: 11.178715; momentum: 2.199630\n"
     ]
    }
   ],
   "source": [
    "import random\n",
    "\n",
    "constant = 0.99\n",
    "velocity_r = 0.\n",
    "velocity_m = 0.\n",
    "\n",
    "for i in range(5):\n",
    "    gradient = random.randint(0, 100)\n",
    "    velocity_r = constant*velocity_r + (1-constant)*(gradient**2) ##RMSProp eqn\n",
    "    velocity_m = constant*velocity_m + (1-constant)*gradient ##momentum eqn\n",
    "    print('gradient: {0} - rmsprop: {1:2f}; momentum: {2:2f}'.format(gradient, velocity_r**0.5, velocity_m))"
   ]
  },
  {
   "cell_type": "markdown",
   "metadata": {
    "id": "I8GgdnRyS2ei"
   },
   "source": [
    "Interesting. We see that although we may think squaring a number and then taking its square root would give the same result as not having it at all, we find that not to be true. Had that been true, then both the square root of the RMSProp and the momentum would give us the same results. Although squaring something and then taking the square root of it may seem redundant, the reality is that when we square something, multiply it by a decimal (0.01 in our case), and then take the square root of it, it has a weighted effect that doesn't happen in the momentum equation.\n",
    "\n",
    "Secondly, something which we’re not showing in the example above is that squaring any number, including negative numbers, turns it into a positive number. This means that RMSProp treats negative gradients the same way it does positive gradients, whereas momentum makes a distinction between the two."
   ]
  },
  {
   "cell_type": "markdown",
   "metadata": {
    "id": "owwgx4FEUYmT"
   },
   "source": [
    "## RMSProp Implementation \n",
    "\n",
    "Now that we've gone over the equation, let's go over the implementation.\n",
    "\n",
    "The following is the implementation of the RMSProp equation in the update step:<br/>\n",
    "*(learning_rate/√RMSProp)(gradients)*\n",
    "\n",
    "Unlike momentum, RMSProp doesn't take the place of the gradients, rather, the learning rate is divided by the square root of the RMSProp equation. This is a fundamental difference in the 2 algorithms. This difference is what makes the learning rate dynamic."
   ]
  },
  {
   "cell_type": "markdown",
   "metadata": {
    "id": "1EtqPrSUUtbb"
   },
   "source": [
    "## Implementing RMSProp in Code\n",
    "\n",
    "Now that we’ve covered the equation in detail, let’s see how we can implement RMSProp in code.\n",
    "\n",
    "As always, in order to implement this in code, we're going to need a dataset. I'll be reusing the same random dataset which I've used for the past few articles. Because this is just for demonstration purposes, we don't need something very complex, but that also means that this dataset isn't to be taken as a benchmark, rather just a fun dataset which makes the explanation easy.\n",
    "\n",
    "Let's begin by importing the relevant libraries, creating some mock data, and then putting our mock data into PyTorch's DataLoader class for ease of use."
   ]
  },
  {
   "cell_type": "code",
   "execution_count": 2,
   "metadata": {
    "id": "kt24_e0ZbvlV"
   },
   "outputs": [],
   "source": [
    "import torch\n",
    "import torch.nn as nn\n",
    "from torch.utils.data import Dataset\n",
    "from torch.utils.data import DataLoader\n",
    "import matplotlib.pyplot as plt\n",
    "\n",
    "dim = 1000\n",
    "X = torch.randn((dim,dim), dtype=float)\n",
    "y = torch.cat((torch.zeros(dim//2, dtype=float), torch.ones(dim//2, dtype=float)))\n",
    "\n",
    "class ExampleDataset(Dataset):\n",
    "\n",
    "    def __init__(self, X, y):\n",
    "        self.X = X\n",
    "        self.y = y\n",
    "        self.len = len(self.X)\n",
    "\n",
    "    def __getitem__(self, index):\n",
    "        return self.X[index], self.y[index]\n",
    "\n",
    "    def __len__(self):\n",
    "        return self.len\n",
    "\n",
    "\n",
    "data = ExampleDataset(X, y)\n",
    "data_loader = DataLoader(dataset=data, batch_size=64, shuffle=True)"
   ]
  },
  {
   "cell_type": "markdown",
   "metadata": {
    "id": "8w0CdoEtU_dT"
   },
   "source": [
    "Next, we'll create our neural network architecture. This architecture is something I often use for quick demonstration purposes. It's 1 hidden layer with half the size of the input layer."
   ]
  },
  {
   "cell_type": "code",
   "execution_count": 3,
   "metadata": {
    "id": "3tQvFNDf6mrE"
   },
   "outputs": [],
   "source": [
    "class Model(nn.Module):\n",
    "\n",
    "    def __init__(self, dim):\n",
    "        super().__init__()\n",
    "        self.hidden_layer = nn.Linear(dim, dim//2)\n",
    "        self.last_layer = nn.Linear(dim//2, 1)\n",
    "        self.sigmoid = nn.Sigmoid()\n",
    "\n",
    "    def forward(self, X):\n",
    "        out = self.sigmoid(self.hidden_layer(X))\n",
    "        out = self.sigmoid(self.last_layer(out))\n",
    "        return out"
   ]
  },
  {
   "cell_type": "markdown",
   "metadata": {
    "id": "_PCFfV3SVAid"
   },
   "source": [
    "Now, before we demonstrate RMSProp, we'll train our data on a vanilla SGD optimizer so that we can compare and see how RMSProp performs. We'll train our data for 1000 epochs with a learning rate of 1e-5. Also, to speed up our training, we're going to be using the GPU for this tutorial.\n",
    "\n",
    "Note: to turn the GPU on in Google Colab, go to Edit > Notebook settings and then change the hardware settings to GPU (the GPU is free to use)."
   ]
  },
  {
   "cell_type": "code",
   "execution_count": 4,
   "metadata": {
    "colab": {
     "base_uri": "https://localhost:8080/"
    },
    "id": "mOF_-N2l6nAX",
    "outputId": "8d4652b7-da21-42fa-f17a-bb27ece3402d"
   },
   "outputs": [
    {
     "name": "stdout",
     "output_type": "stream",
     "text": [
      "Train: epoch: 0 - loss: 0.69401\n",
      "Train: epoch: 100 - loss: 0.69393\n",
      "Train: epoch: 200 - loss: 0.69396\n",
      "Train: epoch: 300 - loss: 0.69378\n",
      "Train: epoch: 400 - loss: 0.69350\n",
      "Train: epoch: 500 - loss: 0.69360\n",
      "Train: epoch: 600 - loss: 0.69336\n",
      "Train: epoch: 700 - loss: 0.69340\n",
      "Train: epoch: 800 - loss: 0.69318\n",
      "Train: epoch: 900 - loss: 0.69330\n",
      "Train: epoch: 1000 - loss: 0.69293\n"
     ]
    }
   ],
   "source": [
    "device = torch.device(\"cuda\" if torch.cuda.is_available() else \"cpu\")\n",
    "epochs = 1000\n",
    "learning_rate = 1e-5\n",
    "\n",
    "model = Model(dim).to(device)\n",
    "bce = nn.BCELoss()\n",
    "optimizer = torch.optim.SGD(model.parameters(), lr = learning_rate)\n",
    "\n",
    "epoch_loss = []\n",
    "model.train()\n",
    "for epoch in range(epochs+1):\n",
    "    iteration_loss = 0.\n",
    "    for i, data in enumerate(data_loader):\n",
    "        X, y = data\n",
    "        y_pred = model(X.float().to(device))\n",
    "        loss = bce(y_pred.to(device), y.reshape(-1,1).float().to(device))\n",
    "        iteration_loss += loss.item()\n",
    "\n",
    "        optimizer.zero_grad()\n",
    "        loss.backward()\n",
    "        optimizer.step()\n",
    "\n",
    "    epoch_loss.append(iteration_loss/(i+1))\n",
    "    if(epoch % 100 == 0):\n",
    "        print('Train: epoch: {0} - loss: {1:.5f}'.format(epoch, epoch_loss[-1]))"
   ]
  },
  {
   "cell_type": "markdown",
   "metadata": {
    "id": "6pt3jh8UVYl3"
   },
   "source": [
    "Let's plot our loss to see how its shape looks throughout the epochs."
   ]
  },
  {
   "cell_type": "code",
   "execution_count": 5,
   "metadata": {
    "colab": {
     "base_uri": "https://localhost:8080/",
     "height": 283
    },
    "id": "sYaWpUlS6xra",
    "outputId": "6d87e249-4f25-4e68-8241-c8e7fac25600",
    "scrolled": true
   },
   "outputs": [
    {
     "data": {
      "text/plain": [
       "[<matplotlib.lines.Line2D at 0x7f198009da10>]"
      ]
     },
     "execution_count": 5,
     "metadata": {
      "tags": []
     },
     "output_type": "execute_result"
    },
    {
     "data": {
      "image/png": "[encoded data removed]",
      "text/plain": [
       "<Figure size 432x288 with 1 Axes>"
      ]
     },
     "metadata": {
      "needs_background": "light",
      "tags": []
     },
     "output_type": "display_data"
    }
   ],
   "source": [
    "plt.plot(epoch_loss)"
   ]
  },
  {
   "cell_type": "markdown",
   "metadata": {
    "id": "2leTEbhpVgUN"
   },
   "source": [
    "Now we'll train our model with RMSProp. Before we do that, we're going to rearrange the RMSProp equation for ease of implementation. Because replacing the learning rate (a decimal scalar) with a matrix is going to make our code fail (PyTorch establishes type restrictions for code stability), for the purposes of our demonstration, we're going to need to rearrange our equation. The PyTorch library overcomes this by creating a whole new class for RMSProp and not using the SGD optimizer for the RMSProp implementation, but to make do with what we have, we'll make a little tweak. Due to the nature of the equation (if you remember your high school math), instead of dividing the learning rate by the square root of the RMSProp equation, we'll divide the gradients by the square root of the RMSProp equation (this is the RMSProp equation which [Andrew Ng references in his videos](https://www.youtube.com/watch?v=_e-LFe_igno)) to achieve the same results.\n",
    "\n",
    "To clear up any confusion, when rearranged, our equation now looks like this:<br/>\n",
    "*(learning_rate)(gradients/√RMSProp)*\n",
    "\n",
    "One thing I'm forgetting is the RMSProp constant. We'll create an rmsprop variable and set that to 0.99.\n",
    "\n",
    "Let's get into it and implement RMSProp in code. We're going to be accessing the gradients in our optimizer. If you're uncertain as to how that's done, please refer to [my article on weight decay](https://cutt.ly/cg2ai-weight-decay-medium) where I detail the steps further there."
   ]
  },
  {
   "cell_type": "code",
   "execution_count": 6,
   "metadata": {
    "colab": {
     "base_uri": "https://localhost:8080/"
    },
    "id": "r2u9qO6D69YY",
    "outputId": "d9a41054-a066-47bb-b3f9-d6c4d57e47c0"
   },
   "outputs": [
    {
     "name": "stdout",
     "output_type": "stream",
     "text": [
      "Train: epoch: 0 - loss: 0.69655\n",
      "Train: epoch: 100 - loss: 0.55193\n",
      "Train: epoch: 200 - loss: 0.43985\n",
      "Train: epoch: 300 - loss: 0.34813\n",
      "Train: epoch: 400 - loss: 0.27447\n",
      "Train: epoch: 500 - loss: 0.21446\n",
      "Train: epoch: 600 - loss: 0.16343\n",
      "Train: epoch: 700 - loss: 0.12122\n",
      "Train: epoch: 800 - loss: 0.08637\n",
      "Train: epoch: 900 - loss: 0.06013\n",
      "Train: epoch: 1000 - loss: 0.03987\n"
     ]
    }
   ],
   "source": [
    "model = Model(dim).to(device)\n",
    "bce = nn.BCELoss()\n",
    "# we'll reuse the learning_rate variable from above\n",
    "optimizer = torch.optim.SGD(model.parameters(), lr = learning_rate)\n",
    "rmsprop = 0.99\n",
    "\n",
    "epoch_loss = []\n",
    "velocities = {}\n",
    "\n",
    "model.train()\n",
    "for epoch in range(epochs+1):\n",
    "    iteration_loss = 0.\n",
    "    for i, data in enumerate(data_loader):\n",
    "        X, y = data\n",
    "        y_pred = model(X.float().to(device))\n",
    "        loss = bce(y_pred.to(device), y.reshape(-1,1).float().to(device))\n",
    "        iteration_loss += loss.item()\n",
    "\n",
    "        optimizer.zero_grad()\n",
    "        loss.backward()\n",
    "        for name, w in model.named_parameters():\n",
    "            if name not in velocities:\n",
    "                velocities[name] = torch.zeros_like(w.grad).detach()\n",
    "            velocities[name].mul_(rmsprop).add_(torch.square(w.grad).mul_(1-rmsprop))\n",
    "            w.grad.divide_(torch.sqrt(velocities[name]))\n",
    "        optimizer.step()\n",
    "\n",
    "    epoch_loss.append(iteration_loss/(i+1))\n",
    "    if(epoch % 100 == 0):\n",
    "        print('Train: epoch: {0} - loss: {1:.5f}'.format(epoch, epoch_loss[-1]))"
   ]
  },
  {
   "cell_type": "markdown",
   "metadata": {
    "id": "49Z9h4HWXXj5"
   },
   "source": [
    "That seems to have performed really well. Let's see how it looks in graph form."
   ]
  },
  {
   "cell_type": "code",
   "execution_count": 7,
   "metadata": {
    "colab": {
     "base_uri": "https://localhost:8080/",
     "height": 283
    },
    "id": "EL7pBM5eOzig",
    "outputId": "98506043-4f35-4ba5-aa1c-5fe2453204ee"
   },
   "outputs": [
    {
     "data": {
      "text/plain": [
       "[<matplotlib.lines.Line2D at 0x7f196e915a50>]"
      ]
     },
     "execution_count": 7,
     "metadata": {
      "tags": []
     },
     "output_type": "execute_result"
    },
    {
     "data": {
      "image/png": "[encoded data removed]",
      "text/plain": [
       "<Figure size 432x288 with 1 Axes>"
      ]
     },
     "metadata": {
      "needs_background": "light",
      "tags": []
     },
     "output_type": "display_data"
    }
   ],
   "source": [
    "plt.plot(epoch_loss)"
   ]
  },
  {
   "cell_type": "markdown",
   "metadata": {
    "id": "m6d2cYA-Xa7t"
   },
   "source": [
    "You can see that RMSProp really helps find a more optimal path to a better minimum. The idea of using an exponentially weighted average makes a very noticeable difference. To get a better understanding of the equation and how it expands, please refer to [my momentum article](https://cutt.ly/cg2ai-momentum-medium). In the article, I've explained how the equation rolls out in extensive detail. "
   ]
  },
  {
   "cell_type": "markdown",
   "metadata": {},
   "source": [
    "## Using RMSProp with PyTorch's API\n",
    "\n",
    "As always, the good news is that PyTorch has already implemented RMSProp in their library, enabling us to use their simple API call, rather than having to code it up ourselves every time. They’ve implemented it in its original form, where they’re dividing the learning rate, rather than the gradients.\n",
    "\n",
    "Let’s use PyTorch’s built-in RMSProp functionality and see how it performs relative to ours.\n",
    "\n",
    "By the way, in PyTorch, our RMSProp constant is known as alpha. We'll use the rmsprop variable from above to set it."
   ]
  },
  {
   "cell_type": "code",
   "execution_count": 8,
   "metadata": {
    "colab": {
     "base_uri": "https://localhost:8080/"
    },
    "id": "VTiMbTmYPBEf",
    "outputId": "b26167e2-a89f-4cb6-d0d8-c6c1fd31b0db"
   },
   "outputs": [
    {
     "name": "stdout",
     "output_type": "stream",
     "text": [
      "Train: epoch: 0 - loss: 0.70007\n",
      "Train: epoch: 100 - loss: 0.56423\n",
      "Train: epoch: 200 - loss: 0.45106\n",
      "Train: epoch: 300 - loss: 0.35551\n",
      "Train: epoch: 400 - loss: 0.28075\n",
      "Train: epoch: 500 - loss: 0.22049\n",
      "Train: epoch: 600 - loss: 0.16824\n",
      "Train: epoch: 700 - loss: 0.12654\n",
      "Train: epoch: 800 - loss: 0.09177\n",
      "Train: epoch: 900 - loss: 0.06355\n",
      "Train: epoch: 1000 - loss: 0.04242\n"
     ]
    }
   ],
   "source": [
    "model = Model(dim).to(device)\n",
    "bce = nn.BCELoss()\n",
    "# we'll reuse the learning_rate and rmsprop values from above\n",
    "optimizer = torch.optim.RMSprop(model.parameters(), lr = learning_rate, alpha = rmsprop)\n",
    "\n",
    "epoch_loss = []\n",
    "model.train()\n",
    "for epoch in range(epochs+1):\n",
    "    iteration_loss = 0.\n",
    "    for i, data in enumerate(data_loader):\n",
    "        X, y = data\n",
    "        y_pred = model(X.float().to(device))\n",
    "        loss = bce(y_pred.to(device), y.reshape(-1,1).float().to(device))\n",
    "        iteration_loss += loss.item()\n",
    "\n",
    "        optimizer.zero_grad()\n",
    "        loss.backward()\n",
    "        optimizer.step()\n",
    "\n",
    "    epoch_loss.append(iteration_loss/(i+1))\n",
    "    if(epoch % 100 == 0):\n",
    "        print('Train: epoch: {0} - loss: {1:.5f}'.format(epoch, epoch_loss[-1]))"
   ]
  },
  {
   "cell_type": "markdown",
   "metadata": {
    "id": "bbz6hc4dXsSG"
   },
   "source": [
    "So far so good. Let’s plot our results."
   ]
  },
  {
   "cell_type": "code",
   "execution_count": 9,
   "metadata": {
    "colab": {
     "base_uri": "https://localhost:8080/",
     "height": 283
    },
    "id": "2lMRah8rPUXn",
    "outputId": "36fa3f8a-e043-4f71-97ae-3dd171961991"
   },
   "outputs": [
    {
     "data": {
      "text/plain": [
       "[<matplotlib.lines.Line2D at 0x7f196e891210>]"
      ]
     },
     "execution_count": 9,
     "metadata": {
      "tags": []
     },
     "output_type": "execute_result"
    },
    {
     "data": {
      "image/png": "[encoded data removed]",
      "text/plain": [
       "<Figure size 432x288 with 1 Axes>"
      ]
     },
     "metadata": {
      "needs_background": "light",
      "tags": []
     },
     "output_type": "display_data"
    }
   ],
   "source": [
    "plt.plot(epoch_loss)"
   ]
  },
  {
   "cell_type": "markdown",
   "metadata": {
    "id": "iSG4ymyxXxt1"
   },
   "source": [
    "Awesome! Our manual implementation is essentially identical!\n",
    "\n",
    "If you look through RMSProps _ _init_ _ function definition, you probably noticed an eps (epsilon) argument which is set to 1e-8 by default. This epsilon variable is for the purposes of numerical stability. What that means is that this epsilon is added to the square root of RMSProp so that, in the case that our RMSProp is ever 0, we don’t divide the learning rate by 0, because dividing by 0 will break our equation and therefore our code.\n",
    "\n",
    "In case you’re curious, our equation with the epsilon looks like this:<br/>\n",
    "*(learning_rate/(√RMSProp+epsilon))(gradients)*"
   ]
  },
  {
   "cell_type": "markdown",
   "metadata": {
    "id": "PR1mQvVHYFLH"
   },
   "source": [
    "## Choosing the right alpha\n",
    "If you’ve taken a look at PyTorch’s RMSProps _ _init_ _ function definition, you probably realized that PyTorch has set a default value for alpha to 0.99. In practice, it’s agreed upon that 0.99 is the best value to keep and probably isn’t worth changing. You could try, but 0.99 works quite well. It’s best to put your efforts around finding the best learning rate, rather than playing around with the alpha or epsilon values.\n",
    "\n",
    "And that concludes our tutorial on RMSProp and its implementation. Congratulations! You should now know how to implement RMSProp from scratch!"
   ]
  }
 ],
 "metadata": {
  "accelerator": "GPU",
  "colab": {
   "collapsed_sections": [],
   "name": "Why RMSProp is Such a Big Deal for Adaptive Learning Rates.ipynb",
   "provenance": []
  },
  "kernelspec": {
   "display_name": "Python 3",
   "language": "python",
   "name": "python3"
  },
  "language_info": {
   "codemirror_mode": {
    "name": "ipython",
    "version": 3
   },
   "file_extension": ".py",
   "mimetype": "text/x-python",
   "name": "python",
   "nbconvert_exporter": "python",
   "pygments_lexer": "ipython3",
   "version": "3.7.1"
  }
 },
 "nbformat": 4,
 "nbformat_minor": 1
}
