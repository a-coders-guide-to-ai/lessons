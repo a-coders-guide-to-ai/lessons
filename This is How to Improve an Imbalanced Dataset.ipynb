{
  "nbformat": 4,
  "nbformat_minor": 0,
  "metadata": {
    "kernelspec": {
      "display_name": "Python 3",
      "language": "python",
      "name": "python3"
    },
    "language_info": {
      "codemirror_mode": {
        "name": "ipython",
        "version": 3
      },
      "file_extension": ".py",
      "mimetype": "text/x-python",
      "name": "python",
      "nbconvert_exporter": "python",
      "pygments_lexer": "ipython3",
      "version": "3.7.1"
    },
    "colab": {
      "name": "This is How to Improve an Imbalanced Dataset.ipynb",
      "provenance": [],
      "collapsed_sections": []
    }
  },
  "cells": [
    {
      "cell_type": "markdown",
      "metadata": {
        "id": "968MW8wNN10_"
      },
      "source": [
        "# This is How to Improve an Imbalanced Dataset\n",
        "-------------------------\n",
        "\n",
        "When working with data in the real world, the issue of an imbalanced dataset comes up more often than you may think. An imbalanced dataset is when the data has significantly less data in a class, relative to the other classes present. For example, a dataset which is used for predicting diabetes, it wouldn't be rare to find 2 times more records of patients without diabetes than patients with diabetes. Why is this a problem? It's a problem because, in the example mentioned, our model can easily achieve 66% accuracy by always predicting the patient to not have diabetes. Yes, 66% accuracy isn't good, but because it's better than random (i.e., 50% in this case), it gives us this false sense that our model is actually learning something valuable, when in fact, it just learned to always predict the same thing.\n",
        "\n",
        "Let's take a look at an example of an imbalanced dataset. For our example, we'll be using the Pima Indians Diabetes dataset. We're going to be re-running the code from our [last article which introduced PyTorch's DataLoader](https://cutt.ly/cg2ai-pytorch-dataloader-medium). In this article, I'll use the headings to describe the reused code, but if you want further explanation on it, then please refer to the article on [PyTorch's DataLoader](https://cutt.ly/cg2ai-pytorch-dataloader-medium).\n",
        "\n",
        "### Import relevant libraries"
      ]
    },
    {
      "cell_type": "code",
      "metadata": {
        "_cell_guid": "b1076dfc-b9ad-4769-8c92-a6c4dae69d19",
        "_uuid": "8f2839f25d086af736a60e9eeb907d3b93b6e0e5",
        "id": "C5qF86LqN11N"
      },
      "source": [
        "import pandas as pd\n",
        "import torch\n",
        "from sklearn.model_selection import train_test_split\n",
        "from sklearn.preprocessing import StandardScaler\n",
        "import torch.nn as nn\n",
        "from torch.utils.data import Dataset\n",
        "from torch.utils.data import DataLoader"
      ],
      "execution_count": null,
      "outputs": []
    },
    {
      "cell_type": "markdown",
      "metadata": {
        "id": "JRy0NMiODNjC"
      },
      "source": [
        "### Read, split and scale data"
      ]
    },
    {
      "cell_type": "code",
      "metadata": {
        "id": "A2P4akI_x7a8"
      },
      "source": [
        "df = pd.read_csv(r'https://raw.githubusercontent.com/a-coders-guide-to-ai/a-coders-guide-to-neural-networks/master/data/diabetes.csv')\r\n",
        "\r\n",
        "X = df[df.columns[:-1]]\r\n",
        "y = df['Outcome']\r\n",
        "X = X.values\r\n",
        "y = torch.tensor(y.values)\r\n",
        "\r\n",
        "X_train, X_test, y_train, y_test = train_test_split(X, y, test_size=0.33, random_state=42)\r\n",
        "\r\n",
        "scaler = StandardScaler()\r\n",
        "scaler.fit(X_train)\r\n",
        "X_train = torch.tensor(scaler.transform(X_train))\r\n",
        "X_test = torch.tensor(scaler.transform(X_test))"
      ],
      "execution_count": null,
      "outputs": []
    },
    {
      "cell_type": "markdown",
      "metadata": {
        "id": "ghYdKHd1DT1M"
      },
      "source": [
        "### Create our own class which inherits from PyTorch's Dataset class"
      ]
    },
    {
      "cell_type": "code",
      "metadata": {
        "id": "aOyi5nPGfyNN"
      },
      "source": [
        "class PimaIndiansDiabetes(Dataset):\n",
        "\n",
        "  def __init__(self, X, y):\n",
        "    self.X = X\n",
        "    self.y = y\n",
        "    self.len = len(self.X)\n",
        "\n",
        "  def __getitem__(self, index):\n",
        "    return self.X[index], self.y[index]\n",
        "\n",
        "  def __len__(self):\n",
        "    return self.len"
      ],
      "execution_count": null,
      "outputs": []
    },
    {
      "cell_type": "markdown",
      "metadata": {
        "id": "HZb-W_FDDa5U"
      },
      "source": [
        "### Create variables for our train and test data using our custom class above"
      ]
    },
    {
      "cell_type": "code",
      "metadata": {
        "id": "X8HCmT0Vk_Fc"
      },
      "source": [
        "train_data = PimaIndiansDiabetes(X_train, y_train)\r\n",
        "test_data = PimaIndiansDiabetes(X_test, y_test)"
      ],
      "execution_count": null,
      "outputs": []
    },
    {
      "cell_type": "markdown",
      "metadata": {
        "id": "hUePY3qDEEjg"
      },
      "source": [
        "### Create reusable function and variables"
      ]
    },
    {
      "cell_type": "code",
      "metadata": {
        "id": "OoZhHj_eXpJt"
      },
      "source": [
        "def accuracy(y_pred, y):\r\n",
        "    return torch.sum((((y_pred>=0.5)+0).reshape(1,-1)==y)+0).item()/y.shape[0]\r\n",
        "\r\n",
        "epochs = 1000+1\r\n",
        "print_epoch = 100\r\n",
        "lr = 1e-2\r\n",
        "batch_size = 64"
      ],
      "execution_count": null,
      "outputs": []
    },
    {
      "cell_type": "markdown",
      "metadata": {
        "id": "0OIf4wxbENpb"
      },
      "source": [
        "### Take advantage of PyTorch's DataLoader class"
      ]
    },
    {
      "cell_type": "code",
      "metadata": {
        "id": "ZL30F9wkoLA0"
      },
      "source": [
        "train_loader = DataLoader(dataset=train_data, batch_size=batch_size, shuffle=True, drop_last=True)\r\n",
        "test_loader = DataLoader(dataset=test_data, batch_size=batch_size, shuffle=True)"
      ],
      "execution_count": null,
      "outputs": []
    },
    {
      "cell_type": "markdown",
      "metadata": {
        "id": "cGkdBw3BET3H"
      },
      "source": [
        "### Create the architecture for our neural network"
      ]
    },
    {
      "cell_type": "code",
      "metadata": {
        "id": "8WfI8g9LN11q"
      },
      "source": [
        "class Model(nn.Module):\n",
        "    \n",
        "    def __init__(self):\n",
        "        super().__init__()\n",
        "        self.hidden_linear = nn.Linear(8, 4)\n",
        "        self.output_linear = nn.Linear(4, 1)\n",
        "        self.sigmoid = nn.Sigmoid()\n",
        "        \n",
        "    def forward(self, X):\n",
        "        hidden_output = self.sigmoid(self.hidden_linear(X))\n",
        "        output = self.sigmoid(self.output_linear(hidden_output))\n",
        "        return output"
      ],
      "execution_count": null,
      "outputs": []
    },
    {
      "cell_type": "markdown",
      "metadata": {
        "id": "lskisQYAEYzP"
      },
      "source": [
        "### Instantiate our Model class and set our loss and optimizer"
      ]
    },
    {
      "cell_type": "code",
      "metadata": {
        "id": "eJ1v4uISaEsv"
      },
      "source": [
        "model = Model()\r\n",
        "BCE = nn.BCELoss()\r\n",
        "optimizer = torch.optim.SGD(model.parameters(), lr = lr)"
      ],
      "execution_count": null,
      "outputs": []
    },
    {
      "cell_type": "markdown",
      "metadata": {
        "id": "SzAdxqjwEfvb"
      },
      "source": [
        "### Train our model"
      ]
    },
    {
      "cell_type": "code",
      "metadata": {
        "colab": {
          "base_uri": "https://localhost:8080/"
        },
        "id": "J8pHXrmNtJt2",
        "outputId": "0e34e5fd-fa13-432c-dd7f-c78860eab1a1"
      },
      "source": [
        "test_result = [] \r\n",
        "\r\n",
        "for epoch in range(epochs):\r\n",
        "    \r\n",
        "    iteration_loss = 0.\r\n",
        "    iteration_accuracy = 0.\r\n",
        "    \r\n",
        "    model.train()\r\n",
        "    for i, data in enumerate(train_loader):\r\n",
        "      X, y = data\r\n",
        "      y_pred = model(X.float())\r\n",
        "      loss = BCE(y_pred, y.reshape(-1,1).float())     \r\n",
        "      \r\n",
        "      iteration_loss += loss\r\n",
        "      iteration_accuracy += accuracy(y_pred, y)\r\n",
        "\r\n",
        "      optimizer.zero_grad()\r\n",
        "      loss.backward()\r\n",
        "      optimizer.step()\r\n",
        "        \r\n",
        "\r\n",
        "    if(epoch % print_epoch == 0):\r\n",
        "        print('Train: epoch: {0} - loss: {1:.5f}; acc: {2:.3f}'.format(epoch, iteration_loss/(i+1), iteration_accuracy/(i+1)))    \r\n",
        "\r\n",
        "    iteration_loss = 0.\r\n",
        "    iteration_accuracy = 0.    \r\n",
        "\r\n",
        "    model.eval()\r\n",
        "    for i, data in enumerate(test_loader):\r\n",
        "      X, y = data\r\n",
        "      y_pred = model(X.float())\r\n",
        "      loss = BCE(y_pred, y.reshape(-1,1).float())\r\n",
        "\r\n",
        "      iteration_loss += loss\r\n",
        "      iteration_accuracy += accuracy(y_pred, y)\r\n",
        "\r\n",
        "      if(epoch == epochs-1):\r\n",
        "        test_result.append((y, ((y_pred>=0.5)+0).reshape(1,-1)[0]))\r\n",
        "\r\n",
        "    if(epoch % print_epoch == 0):\r\n",
        "        print('Test: epoch: {0} - loss: {1:.5f}; acc: {2:.3f}'.format(epoch, iteration_loss/(i+1), iteration_accuracy/(i+1)))"
      ],
      "execution_count": null,
      "outputs": [
        {
          "output_type": "stream",
          "text": [
            "Train: epoch: 0 - loss: 0.68398; acc: 0.613\n",
            "Test: epoch: 0 - loss: 0.68127; acc: 0.614\n",
            "Train: epoch: 100 - loss: 0.62482; acc: 0.645\n",
            "Test: epoch: 100 - loss: 0.61739; acc: 0.661\n",
            "Train: epoch: 200 - loss: 0.58431; acc: 0.658\n",
            "Test: epoch: 200 - loss: 0.58366; acc: 0.673\n",
            "Train: epoch: 300 - loss: 0.54129; acc: 0.736\n",
            "Test: epoch: 300 - loss: 0.54950; acc: 0.740\n",
            "Train: epoch: 400 - loss: 0.50837; acc: 0.762\n",
            "Test: epoch: 400 - loss: 0.52661; acc: 0.756\n",
            "Train: epoch: 500 - loss: 0.48781; acc: 0.760\n",
            "Test: epoch: 500 - loss: 0.51345; acc: 0.741\n",
            "Train: epoch: 600 - loss: 0.47398; acc: 0.768\n",
            "Test: epoch: 600 - loss: 0.50764; acc: 0.728\n",
            "Train: epoch: 700 - loss: 0.46655; acc: 0.779\n",
            "Test: epoch: 700 - loss: 0.50473; acc: 0.740\n",
            "Train: epoch: 800 - loss: 0.46178; acc: 0.779\n",
            "Test: epoch: 800 - loss: 0.50364; acc: 0.748\n",
            "Train: epoch: 900 - loss: 0.45740; acc: 0.781\n",
            "Test: epoch: 900 - loss: 0.50390; acc: 0.740\n",
            "Train: epoch: 1000 - loss: 0.45692; acc: 0.779\n",
            "Test: epoch: 1000 - loss: 0.50420; acc: 0.741\n"
          ],
          "name": "stdout"
        }
      ]
    },
    {
      "cell_type": "markdown",
      "metadata": {
        "id": "pndG_7HRJ4sG"
      },
      "source": [
        "Considering our very simple architecture and the fact that we're not doing much else with the data, our loss and accuracy are decent (the values might vary a bit if you rerun it), so what's the problem? The problem comes when we take a closer look into our results for our test set.\r\n",
        "\r\n",
        "## Dissecting Our Results with a Confusion Matrix\r\n",
        "To dissect our test results, we're going to use something called a confusion matrix. If you look at the code above, you'll see in the testing portion I added an if statement which, at the last epoch, appends our test results to a list. We'll use the confusion_matrix and ConfusionMatrixDisplay functions built-in to sklearn to accomplish the task of producing a confusion matrix.\r\n",
        "\r\n",
        "First, let's import the functions."
      ]
    },
    {
      "cell_type": "code",
      "metadata": {
        "id": "Q2EGSmykDEjk"
      },
      "source": [
        "from sklearn.metrics import confusion_matrix, ConfusionMatrixDisplay"
      ],
      "execution_count": null,
      "outputs": []
    },
    {
      "cell_type": "markdown",
      "metadata": {
        "id": "yxGWXfp0RnA7"
      },
      "source": [
        "Next, we're going to have to unzip the list and make sure that the actuals (i.e., ground truth) are together in 1 list and the predictions are in another list."
      ]
    },
    {
      "cell_type": "code",
      "metadata": {
        "id": "3w00Jd2L48IT"
      },
      "source": [
        "true, pred = zip(*test_result)\r\n",
        "true, pred = torch.cat(true), torch.cat(pred)"
      ],
      "execution_count": null,
      "outputs": []
    },
    {
      "cell_type": "markdown",
      "metadata": {
        "id": "D8geQRkZR8i0"
      },
      "source": [
        "Lastly, we'll create our confusion matrix using the confusion_matrix function. It takes our actual values, our predicted values, and a label. This label is what the distinct labels of the values should be. In our case we have 0 for the negative case (i.e., patients who don't have diabetes) and 1 for the positive case (i.e., patients that have diabetes).\r\n",
        "\r\n",
        "To pretty-up our confusion matrix, we'll use the ConfusionMatrixDisplay, passing in our confusion matrix along with the labels. Thereafter, we'll plot it by calling its plot function."
      ]
    },
    {
      "cell_type": "code",
      "metadata": {
        "colab": {
          "base_uri": "https://localhost:8080/",
          "height": 296
        },
        "id": "2s-5ihJmFWGr",
        "outputId": "eef992ca-bfc4-4f57-e435-f968bbf896e4"
      },
      "source": [
        "cm = confusion_matrix(true, pred, labels=[0,1])\r\n",
        "disp = ConfusionMatrixDisplay(confusion_matrix=cm, display_labels=[0,1])\r\n",
        "disp.plot()"
      ],
      "execution_count": null,
      "outputs": [
        {
          "output_type": "execute_result",
          "data": {
            "text/plain": [
              "<sklearn.metrics._plot.confusion_matrix.ConfusionMatrixDisplay at 0x7effed04e898>"
            ]
          },
          "metadata": {
            "tags": []
          },
          "execution_count": 86
        },
        {
          "output_type": "display_data",
          "data": {
            "image/png": "[encoded data removed]",
            "text/plain": [
              "<Figure size 432x288 with 2 Axes>"
            ]
          },
          "metadata": {
            "tags": [],
            "needs_background": "light"
          }
        }
      ]
    },
    {
      "cell_type": "markdown",
      "metadata": {
        "id": "aJGHfQjxTKtW"
      },
      "source": [
        "There we have it - a pretty confusion matrix. The question is, how do we read this? On the left, we have the true labels and at the bottom, we have the predicted labels. We can see that for 168 records which are class 0, our model predicted 133 of them to be 0 (correctly classified) and 35 of them to be 1 (misclassified). As for the records which are class 1, of the 86 records, our model predicted 31 of them to be 0 (misclassified) and 55 of them to be 1 (correctly classified).\r\n",
        "\r\n",
        "In terms of accuracy, let's see how our model performed across the 2 classes (i.e., 0 and 1)."
      ]
    },
    {
      "cell_type": "code",
      "metadata": {
        "colab": {
          "base_uri": "https://localhost:8080/"
        },
        "id": "-dtpFeV0zxjV",
        "outputId": "ceba83ef-6758-4281-ff54-057e3eaaf986"
      },
      "source": [
        "print('class 0 accuracy: {0:.3f}'.format(cm[0,0]/sum(cm[0])))\r\n",
        "print('class 1 accuracy: {0:.3f}'.format(cm[1,1]/sum(cm[1])))"
      ],
      "execution_count": null,
      "outputs": [
        {
          "output_type": "stream",
          "text": [
            "class 0 accuracy: 0.792\n",
            "class 1 accuracy: 0.640\n"
          ],
          "name": "stdout"
        }
      ]
    },
    {
      "cell_type": "markdown",
      "metadata": {
        "id": "A1LousYgWMze"
      },
      "source": [
        "That's interesting. We're seeing that our model performs significantly better on class 0 than on class 1. Essentially, the accuracy we were seeing after training our model is not a true representation of what we're seeing when we split up our classes. Class 1 performs significantly worse than what we were hoping for.\r\n",
        "\r\n",
        "## Attempting to Balance an Imbalanced Dataset\r\n",
        "Above, we saw that our model results were not exactly being represented when we took a further look at our test results seperated by class. Why? What's the reason that our model was able to predict class 0 better than class 1? The answer is simple. If we look at our training data, we'll most likely see that we actually have signifcantly more data for the class 0 than we do for class 1.\r\n",
        "\r\n",
        "Let's take a look at the training set to see if our assumption is valid."
      ]
    },
    {
      "cell_type": "code",
      "metadata": {
        "colab": {
          "base_uri": "https://localhost:8080/"
        },
        "id": "Ev_T19zpZh-L",
        "outputId": "dfa68145-9fbf-4082-a8ae-9d4267bead54"
      },
      "source": [
        "print('amount of records for class 0: {0:.0f}'.format(torch.sum((y_train==0)*1).item()))\r\n",
        "print('amount of records for class 1: {0:.0f}'.format(torch.sum((y_train==1)*1).item()))"
      ],
      "execution_count": null,
      "outputs": [
        {
          "output_type": "stream",
          "text": [
            "amount of records for class 0: 332\n",
            "amount of records for class 1: 182\n"
          ],
          "name": "stdout"
        }
      ]
    },
    {
      "cell_type": "markdown",
      "metadata": {
        "id": "0QqogRsZnLIb"
      },
      "source": [
        "As we assumed, the classes are highly imbalanced. The amount of training data for class 1 is almost half that of class 0.\n",
        "\n",
        "How do we fix this problem? Balancing an imbalanced class can be done in several ways, but in this article, we're going to be discussing a method which was [mentioned by Jeremey Howard (the founder of FastAI)]( https://twitter.com/jeremyphoward/status/1175177461920698368?lang=en). In his post, he indirectly refers to the paper [A systematic study of the class imbalance problem in convolutional neural networks](https://arxiv.org/abs/1710.05381). The method which the research paper mentions to have performed the best is that of oversampling. Although the paper discusses oversampling for convolution neural networks, in practice, it works just as well in other types of neural networks. The question you’re probably asking now is, “what’s oversampling?” Oversampling is a fancy way to say duplication of data. The data is oversampled by taking a random sample of the already existing data and duplicating it. After duplicating the random sample, it’s then appended to the training set. Something to keep in mind is that oversampling is only done on the training data and not the testing data. The best way to ensure this, is to first split the training and testing data, and then oversample only the training data.\n",
        "\n",
        "The steps we'll use to accomplish the task of oversampling is by first splitting our dataset into training and testing sets, and then oversampling the imbalanced class (i.e., class 1) in the training set until it has the same number of records as the other class.\n",
        "\n",
        "Let's see how we would execute this in code."
      ]
    },
    {
      "cell_type": "code",
      "metadata": {
        "id": "WE4E53tq9JuC"
      },
      "source": [
        "df = pd.read_csv(r'https://raw.githubusercontent.com/a-coders-guide-to-ai/a-coders-guide-to-neural-networks/master/data/diabetes.csv')\r\n",
        "\r\n",
        "X = df[df.columns[:-1]]\r\n",
        "y = df['Outcome']\r\n",
        "X = torch.tensor(X.values)\r\n",
        "y = torch.tensor(y.values)\r\n",
        "\r\n",
        "X_train, X_test, y_train, y_test = train_test_split(X, y, test_size=0.33, random_state=42, stratify=y)\r\n",
        "\r\n",
        "###oversampling class 1###\r\n",
        "difference = sum((y_train==0)*1) - sum((y_train==1)*1)\r\n",
        "indices = torch.where(y_train==1)[0]\r\n",
        "rand_subsample = torch.randint(0, len(indices), (difference,))\r\n",
        "X_train, y_train = torch.cat((X_train, X_train[indices[rand_subsample]])), torch.cat((y_train, y_train[indices[rand_subsample]]))\r\n",
        "##########################\r\n",
        "\r\n",
        "scaler = StandardScaler()\r\n",
        "scaler.fit(X_train)\r\n",
        "X_train = torch.tensor(scaler.transform(X_train))\r\n",
        "X_test = torch.tensor(scaler.transform(X_test))"
      ],
      "execution_count": null,
      "outputs": []
    },
    {
      "cell_type": "markdown",
      "metadata": {
        "id": "LGlpKEgCtmsS"
      },
      "source": [
        "Before we continue with the topic of oversampling, you probably realized the stratify parameter in the train_test_split function. The stratify parameter allows our test data to be representative of our training data, in terms of its balance. What does that mean? It means that our test data has the same ratio of class 0 and class 1 which exists in our training data. We passed it our target (i.e., y) to let it know that our data should be stratified in accordance with that feature. Stratifying our data should help us a bit, especially considering that our dataset is not only imbalanced, but it's also small.\r\n",
        "\r\n",
        "Back to the topic at hand, as you can see, the oversampling was performed by finding the difference in size between class 0 and class 1 and then choosing a random set of indices for class 1, duplicating the random set of data and then appending it to the training set.\r\n",
        "\r\n",
        "Now that we oversampled from class 1 (i.e., the imbalanced class), we should now have the same amount of data in both classes. Let's see if they're the same size."
      ]
    },
    {
      "cell_type": "code",
      "metadata": {
        "colab": {
          "base_uri": "https://localhost:8080/"
        },
        "id": "s0Bw1HIZdzKj",
        "outputId": "6f21b6c8-f146-4c56-d397-7b871fdea802"
      },
      "source": [
        "print('amount of records for class 0: {0:.0f}'.format(torch.sum((y_train==0)*1).item()))\n",
        "print('amount of records for class 1: {0:.0f}'.format(torch.sum((y_train==1)*1).item()))"
      ],
      "execution_count": null,
      "outputs": [
        {
          "output_type": "stream",
          "text": [
            "amount of records for class 0: 335\n",
            "amount of records for class 1: 335\n"
          ],
          "name": "stdout"
        }
      ]
    },
    {
      "cell_type": "markdown",
      "metadata": {
        "id": "7Aa-BEWvih5q"
      },
      "source": [
        "Awesome. We got that to work.\r\n",
        "\r\n",
        "Now that we've balanced our dataset, let's throw it into PyTorch's DataLoader."
      ]
    },
    {
      "cell_type": "code",
      "metadata": {
        "id": "Fn03-KC1CUUn"
      },
      "source": [
        "train_data = PimaIndiansDiabetes(X_train, y_train)\r\n",
        "test_data = PimaIndiansDiabetes(X_test, y_test)\r\n",
        "train_loader = DataLoader(dataset=train_data, batch_size=batch_size, shuffle=True, drop_last=True)\r\n",
        "test_loader = DataLoader(dataset=test_data, batch_size=batch_size, shuffle=True)"
      ],
      "execution_count": null,
      "outputs": []
    },
    {
      "cell_type": "markdown",
      "metadata": {
        "id": "9NXjb3bHnrXE"
      },
      "source": [
        "We'll also reset our model, making sure that we're not reusing our already train model."
      ]
    },
    {
      "cell_type": "code",
      "metadata": {
        "id": "NJqLfmm3Cg_I"
      },
      "source": [
        "model = Model()\r\n",
        "BCE = nn.BCELoss()\r\n",
        "optimizer = torch.optim.SGD(model.parameters(), lr = lr)"
      ],
      "execution_count": null,
      "outputs": []
    },
    {
      "cell_type": "markdown",
      "metadata": {
        "id": "DGBCUzH3n6cg"
      },
      "source": [
        "## Training Our Model on Our New Dataset\n",
        "\n",
        "Finally, we're ready to train our model on our new (and hopefully improved) dataset. Let's see how it performs."
      ]
    },
    {
      "cell_type": "code",
      "metadata": {
        "colab": {
          "base_uri": "https://localhost:8080/"
        },
        "id": "Dml_jRKjAI_S",
        "outputId": "5fa2f3c4-315c-49ef-be2d-c6f91b308503"
      },
      "source": [
        "test_result = [] \r\n",
        "\r\n",
        "for epoch in range(epochs):\r\n",
        "    \r\n",
        "    iteration_loss = 0.\r\n",
        "    iteration_accuracy = 0.\r\n",
        "    \r\n",
        "    model.train()\r\n",
        "    for i, data in enumerate(train_loader):\r\n",
        "      X, y = data\r\n",
        "      y_pred = model(X.float())\r\n",
        "      loss = BCE(y_pred, y.reshape(-1,1).float())     \r\n",
        "      \r\n",
        "      iteration_loss += loss\r\n",
        "      iteration_accuracy += accuracy(y_pred, y)\r\n",
        "\r\n",
        "      optimizer.zero_grad()\r\n",
        "      loss.backward()\r\n",
        "      optimizer.step()\r\n",
        "        \r\n",
        "\r\n",
        "    if(epoch % print_epoch == 0):\r\n",
        "        print('Train: epoch: {0} - loss: {1:.5f}; acc: {2:.3f}'.format(epoch, iteration_loss/(i+1), iteration_accuracy/(i+1)))    \r\n",
        "\r\n",
        "    iteration_loss = 0.\r\n",
        "    iteration_accuracy = 0.    \r\n",
        "\r\n",
        "    model.eval()\r\n",
        "    for i, data in enumerate(test_loader):\r\n",
        "      X, y = data\r\n",
        "      y_pred = model(X.float())\r\n",
        "      loss = BCE(y_pred, y.reshape(-1,1).float())\r\n",
        "\r\n",
        "      iteration_loss += loss\r\n",
        "      iteration_accuracy += accuracy(y_pred, y)\r\n",
        "\r\n",
        "      if(epoch == epochs-1):\r\n",
        "        test_result.append((y, ((y_pred>=0.5)+0).reshape(1,-1)[0]))\r\n",
        "\r\n",
        "    if(epoch % print_epoch == 0):\r\n",
        "        print('Test: epoch: {0} - loss: {1:.5f}; acc: {2:.3f}'.format(epoch, iteration_loss/(i+1), iteration_accuracy/(i+1)))"
      ],
      "execution_count": null,
      "outputs": [
        {
          "output_type": "stream",
          "text": [
            "Train: epoch: 0 - loss: 0.69721; acc: 0.498\n",
            "Test: epoch: 0 - loss: 0.65168; acc: 0.649\n",
            "Train: epoch: 100 - loss: 0.66349; acc: 0.697\n",
            "Test: epoch: 100 - loss: 0.65675; acc: 0.736\n",
            "Train: epoch: 200 - loss: 0.61927; acc: 0.723\n",
            "Test: epoch: 200 - loss: 0.61143; acc: 0.775\n",
            "Train: epoch: 300 - loss: 0.56997; acc: 0.748\n",
            "Test: epoch: 300 - loss: 0.56598; acc: 0.768\n",
            "Train: epoch: 400 - loss: 0.54372; acc: 0.745\n",
            "Test: epoch: 400 - loss: 0.53442; acc: 0.763\n",
            "Train: epoch: 500 - loss: 0.52508; acc: 0.748\n",
            "Test: epoch: 500 - loss: 0.51588; acc: 0.775\n",
            "Train: epoch: 600 - loss: 0.51137; acc: 0.758\n",
            "Test: epoch: 600 - loss: 0.50588; acc: 0.772\n",
            "Train: epoch: 700 - loss: 0.50197; acc: 0.759\n",
            "Test: epoch: 700 - loss: 0.50150; acc: 0.768\n",
            "Train: epoch: 800 - loss: 0.50544; acc: 0.748\n",
            "Test: epoch: 800 - loss: 0.49816; acc: 0.768\n",
            "Train: epoch: 900 - loss: 0.49463; acc: 0.761\n",
            "Test: epoch: 900 - loss: 0.49544; acc: 0.776\n",
            "Train: epoch: 1000 - loss: 0.49227; acc: 0.764\n",
            "Test: epoch: 1000 - loss: 0.49481; acc: 0.779\n"
          ],
          "name": "stdout"
        }
      ]
    },
    {
      "cell_type": "markdown",
      "metadata": {
        "id": "XBYeYsYXoNQs"
      },
      "source": [
        "Before even dissecting our results, we're already seeing that there's more of a consistency between the train and test results. That's a good sign. If you rerun it, your results may vary, but it won't vary in its consistency between the train and test set.\r\n",
        "\r\n",
        "Let's unzip our results from our last epoch and dissect them using a confusion matrix."
      ]
    },
    {
      "cell_type": "code",
      "metadata": {
        "colab": {
          "base_uri": "https://localhost:8080/",
          "height": 296
        },
        "id": "zjxLqBS47bhv",
        "outputId": "0700f1e9-399e-45be-fc41-eadbfcea9fdc"
      },
      "source": [
        "true, pred = zip(*test_result)\r\n",
        "true, pred = torch.cat(true), torch.cat(pred)\r\n",
        "\r\n",
        "cm = confusion_matrix(true, pred, labels=[0,1])\r\n",
        "disp = ConfusionMatrixDisplay(confusion_matrix=cm, display_labels=[0,1])\r\n",
        "disp.plot()"
      ],
      "execution_count": null,
      "outputs": [
        {
          "output_type": "execute_result",
          "data": {
            "text/plain": [
              "<sklearn.metrics._plot.confusion_matrix.ConfusionMatrixDisplay at 0x7effecf0f2e8>"
            ]
          },
          "metadata": {
            "tags": []
          },
          "execution_count": 99
        },
        {
          "output_type": "display_data",
          "data": {
            "image/png": "[encoded data removed]",
            "text/plain": [
              "<Figure size 432x288 with 2 Axes>"
            ]
          },
          "metadata": {
            "tags": [],
            "needs_background": "light"
          }
        }
      ]
    },
    {
      "cell_type": "markdown",
      "metadata": {
        "id": "UwPNxZD1pTlr"
      },
      "source": [
        "Having stratified our data, we see that class 1 has a little bit more data, but as we said above, the test set has the same balance as the training set.\r\n",
        "\r\n",
        "As we can see from the confusion matrix, our class which wasn't oversampled is performing the same as before, which is good. Throwing more data of the positive class (i.e., class 1) didn't affect our model in its ability to comprehend the negative class (i.e., class 0). As for our class which was oversampled, I'm not really good at looking at numbers like that and making conclusions from it, so let's look at it in terms of accuracy."
      ]
    },
    {
      "cell_type": "code",
      "metadata": {
        "colab": {
          "base_uri": "https://localhost:8080/"
        },
        "id": "fPbO4hT67hbK",
        "outputId": "0918dcf5-89fd-4862-b1c4-610c970736fa"
      },
      "source": [
        "print('class 0 accuracy: {0:.3f}'.format(cm[0,0]/sum(cm[0])))\r\n",
        "print('class 1 accuracy: {0:.3f}'.format(cm[1,1]/sum(cm[1])))"
      ],
      "execution_count": null,
      "outputs": [
        {
          "output_type": "stream",
          "text": [
            "class 0 accuracy: 0.788\n",
            "class 1 accuracy: 0.764\n"
          ],
          "name": "stdout"
        }
      ]
    },
    {
      "cell_type": "markdown",
      "metadata": {
        "id": "lFWx7GAdoUiB"
      },
      "source": [
        "Looking at the accuracies, we can see that they're balanced, and that our accuracy from our model is now a representation of our dissection. Yay, oversampling worked!\n",
        "\n",
        "## Why Does It Work?\n",
        "\n",
        "It's interesting to see how a simple trick which may seem counterintuitive actually works. But why does it work? Let's try and understand. We have a large sample of the problem (i.e., our training data) and we're assuming that the data which was captured for this problem represents the problem well enough that if we understand our training set, then we should understand the problem. Now, if the imbalanced class is a good representation of the problem (which we assume it is), then any extra data that we get, should, in theory, resemble very closely with the already existing data. Keeping that in mind, if extra data would closely resemble the already existing data to a point that it looks like duplicate data, then duplicating the data should, theoretically, be a good substitute to collecting extra data.\n",
        "\n",
        "I apologize because I know that the paragraph above was a mouthful. Reading it may be a little confusing, so make sure to go through it slowly if it didn’t make sense the first time. To conclude, the above is the exact thought process behind the idea of oversampling for imbalanced datasets.\n",
        "\n",
        "## When Does It Not Work?\n",
        "\n",
        "Throughout this article, we've touted oversampling as the saviour to an imbalanced dataset, but it wouldn't be fair to end the article without going over where it wouldn't be such a good idea. There may be many instances where oversampling may not be the best approach for an imbalanced dataset, but 3 situations come to mind:\n",
        "\n",
        "1.\tWhen it's possible and easy to correct an imbalanced class by collecting more data, then it's best to do so rather than oversampling the already existing data.\n",
        "2.\tIf the data present contains a lot of bias to it (even though the data may be numerous), it's good to refrain from oversampling it. Rather, the correct approach would be to collect more data, even if it may be difficult to do so.\n",
        "3.\tIn our example, we almost doubled our data. Doubling isn't usually recommended, so try to avoid oversampling if the gap between the classes is too large. How large is too large? I don't have a rule for you, but the best way to find out is to experiment with your data.\n",
        "\n",
        "That concludes this article. I'm hoping that it's been useful and not too confusing. Make sure to go through it again if you struggled with some parts the first time."
      ]
    }
  ]
}