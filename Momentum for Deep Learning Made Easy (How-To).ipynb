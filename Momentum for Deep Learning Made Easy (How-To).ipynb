{
 "cells": [
  {
   "cell_type": "markdown",
   "metadata": {
    "id": "11xWcNaGsNy2"
   },
   "source": [
    "# Momentum for Deep Learning Made Easy (How-To)\n",
    "-----------\n",
    "\n",
    "As neural networks have developed, so have the optimizers for gradient descent (if you need a refresher on gradient descent, please refer to my [book](https://cutt.ly/cg2nn-ch1-medium)). The use of an optimal optimizer is a constant area of research. In this article, we'll be covering momentum – a fundamental addition which made way for the famous ADAM optimizer.\n",
    "\n",
    "Like many other improvements made in deep learning, momentum is not specific to deep learning, rather, it has been borrowed from other fields of research. It's originally known as an exponentially weighted average (EMA) algorithm and is used for the smoothing of graphs. In deep learning, it has the same function, except it's smoothing a graph which usually isn't plotted (i.e., the loss function).\n",
    "\n",
    "In this article, we'll take the code first approach to understand momentum – the intuition along with its implementation.\n",
    "\n",
    "The first thing we'll do is import our libraries which we'll use throughout this article. The libraries matplotlib, time and IPython are only imported for the ease of explanation but aren't required for the actual implementation of momentum."
   ]
  },
  {
   "cell_type": "code",
   "execution_count": 7,
   "metadata": {
    "id": "JUvpraTlwh0C"
   },
   "outputs": [],
   "source": [
    "import torch\n",
    "import torch.nn as nn\n",
    "from torch.utils.data import Dataset\n",
    "from torch.utils.data import DataLoader\n",
    "\n",
    "import matplotlib.pyplot as plt\n",
    "import time\n",
    "from IPython import display"
   ]
  },
  {
   "cell_type": "markdown",
   "metadata": {
    "id": "tUjsC2l3H-pq"
   },
   "source": [
    "For the purposes of our explanation, we'll curate some points which we're going to graph. To accomplish this, we'll make some X and y data. Our X values will be a tensor consisting of decimal values (2 decimal places) between 0 and 1, with a step of 1e-2. Our y values will be a function of our X values."
   ]
  },
  {
   "cell_type": "code",
   "execution_count": 8,
   "metadata": {
    "id": "gnRzE8dtwmgC"
   },
   "outputs": [],
   "source": [
    "X = torch.arange(0,1,1e-2)\n",
    "y = 0.2*((X-0.5)**2)"
   ]
  },
  {
   "cell_type": "markdown",
   "metadata": {
    "id": "s4Gp9N_6IKmo"
   },
   "source": [
    "Now that we have those, we're going to change 1 value in our y tensor to help us in our explanation. We'll change the 25th index, adding 2e-3 to the already existing value."
   ]
  },
  {
   "cell_type": "code",
   "execution_count": 9,
   "metadata": {
    "id": "I5aFCPRx98R4"
   },
   "outputs": [],
   "source": [
    "y[25] = y[25]+2e-3"
   ]
  },
  {
   "cell_type": "markdown",
   "metadata": {
    "id": "Wkut37n-INNd"
   },
   "source": [
    "Let's plot our X and y to see how they look."
   ]
  },
  {
   "cell_type": "code",
   "execution_count": 10,
   "metadata": {
    "colab": {
     "base_uri": "https://localhost:8080/",
     "height": 283
    },
    "id": "PU0zYtSh0Syt",
    "outputId": "c2166ae4-fb00-408f-fddc-d4567a44e6cb"
   },
   "outputs": [
    {
     "data": {
      "text/plain": [
       "[<matplotlib.lines.Line2D at 0x7f74161f67f0>]"
      ]
     },
     "execution_count": 10,
     "metadata": {
      "tags": []
     },
     "output_type": "execute_result"
    },
    {
     "data": {
      "image/png": "[encoded data removed]",
      "text/plain": [
       "<Figure size 432x288 with 1 Axes>"
      ]
     },
     "metadata": {
      "needs_background": "light",
      "tags": []
     },
     "output_type": "display_data"
    }
   ],
   "source": [
    "plt.plot(X,y)"
   ]
  },
  {
   "cell_type": "markdown",
   "metadata": {
    "id": "pnk4a1R0IRWX"
   },
   "source": [
    "What we're seeing is a parabola which has a bump at the 25th point. This is what we'll use to understand momentum."
   ]
  },
  {
   "cell_type": "markdown",
   "metadata": {
    "id": "6XOEWIL7ISHf"
   },
   "source": [
    "## Exploring momentum\n",
    "\n",
    "Now that we have our graph setup, we're ready to talk about the intuition behind momentum.\n",
    "\n",
    "The parabola which we constructed will represent a valley. We're standing at the top of this valley and we're looking to roll a ball down the hill.\n",
    "\n",
    "To simulate the rolling of a ball down the hill, I've come up with some code which will help us with that. The code is a very simplified version of gradient descent. The code works in the following manner – the ball keeps rolling down the hill as long as the gradient (i.e., the slope between 2 adjacent points) is a negative value. Essentially, the ball rolls down the hill for as long as it can.\n",
    "\n",
    "Let's see it in action."
   ]
  },
  {
   "cell_type": "code",
   "execution_count": 11,
   "metadata": {
    "colab": {
     "base_uri": "https://localhost:8080/",
     "height": 281
    },
    "id": "svJzDBisI4rL",
    "outputId": "69adb39e-9813-4356-caa2-93597d206061"
   },
   "outputs": [
    {
     "data": {
      "image/png": "[encoded data removed]",
      "text/plain": [
       "<Figure size 432x288 with 1 Axes>"
      ]
     },
     "metadata": {
      "needs_background": "light",
      "tags": []
     },
     "output_type": "display_data"
    }
   ],
   "source": [
    "def gradient(x1, x2, y1, y2):\n",
    "    return ((y2-y1)/(x2-x1)).item()\n",
    "  \n",
    "epochs = 50\n",
    "pos = 0\n",
    "path = [0]\n",
    "\n",
    "for epoch in range(epochs+1):\n",
    "\n",
    "    ##########plotting##########\n",
    "    display.display(plt.gcf())\n",
    "    display.clear_output(wait=True)\n",
    "    plt.plot(X, y, c='C0')\n",
    "    plt.plot(X[path], y[path], c='C1')\n",
    "    plt.title('Epoch: ' + str(epoch))\n",
    "    plt.show()\n",
    "    time.sleep(0.1)\n",
    "    #############################\n",
    "  \n",
    "    cur_grad = gradient(X[pos], X[pos+1], y[pos], y[pos+1])  # calculate gradient\n",
    "    # step\n",
    "    if(cur_grad < 0.):\n",
    "        pos += 1\n",
    "  \n",
    "    path.append(pos-1)"
   ]
  },
  {
   "cell_type": "markdown",
   "metadata": {
    "id": "S9Uhh3uhIsvA"
   },
   "source": [
    "Hm… that's unfortunate. Our ball got stuck at the bump. I guess that was expected, but how do we overcome this? Considering this article is about momentum, then the answer to that question is probably momentum (you would be right if you assumed the answer to be momentum). The idea behind momentum is that if the ball has enough momentum, then it can overcome that small bump and get to the bottom of the valley.\n",
    "\n",
    "So how do we accomplish this? What we're going to do is introduce 2 variables – velocity and momentum. The momentum variable we'll set to 0.6 (it must be a value between 0 and 1) and the velocity variable, we'll initialize it to 0. The formula behind momentum is the following:\n",
    "\n",
    "*Momentum(velocity) + gradient(1-momentum)*\n",
    "\n",
    "What we're doing is multiplying the velocity with the momentum and adding that to the gradient multiplied by 1 subtracted by the momentum value. That new number is our new velocity. The idea is that as long as our velocity is lower than 0, our ball will keep rolling down the hill.\n",
    "\n",
    "Reusing the code from above, let's add in momentum and see it in action."
   ]
  },
  {
   "cell_type": "code",
   "execution_count": 12,
   "metadata": {
    "colab": {
     "base_uri": "https://localhost:8080/",
     "height": 281
    },
    "id": "NvmJ5YBS4NUE",
    "outputId": "99ff48bb-1197-4a45-901b-ffa5f516204d"
   },
   "outputs": [
    {
     "data": {
      "image/png": "[encoded data removed]",
      "text/plain": [
       "<Figure size 432x288 with 1 Axes>"
      ]
     },
     "metadata": {
      "needs_background": "light",
      "tags": []
     },
     "output_type": "display_data"
    }
   ],
   "source": [
    "pos = 0\n",
    "path = [0]\n",
    "\n",
    "momentum = 0.6\n",
    "velocity = 0\n",
    "\n",
    "for epoch in range(epochs+1):\n",
    "\n",
    "    ##########plotting##########\n",
    "    display.display(plt.gcf())\n",
    "    display.clear_output(wait=True)\n",
    "    plt.plot(X, y, c='C0')\n",
    "    plt.plot(X[path], y[path], c='C1')\n",
    "    plt.title('Epoch: ' + str(epoch))\n",
    "    plt.show()\n",
    "    time.sleep(0.1)\n",
    "    #############################\n",
    "\n",
    "    cur_grad = gradient(X[pos], X[pos+1], y[pos], y[pos+1])  # calculate gradient\n",
    "    velocity = (momentum*velocity) + ((1-momentum)*cur_grad) # momentum equation\n",
    "    # step\n",
    "    if(velocity < 0.):\n",
    "        pos += 1\n",
    "  \n",
    "    path.append(pos-1)"
   ]
  },
  {
   "cell_type": "markdown",
   "metadata": {
    "id": "nGXPVjoQJuY_"
   },
   "source": [
    "It worked! Our ball got to the bottom of the valley!\n",
    "\n",
    "The code isn't complex, so I'm hoping that you can see how momentum fits in."
   ]
  },
  {
   "cell_type": "markdown",
   "metadata": {
    "id": "wXNFpb7aJx-M"
   },
   "source": [
    "## How it works\n",
    "\n",
    "The question now is, why did it work? Remember above when I said that momentum was used to smooth graphs? Well, that's exactly what we're doing with our value (i.e., loss function). We're smoothing it out, to the point that the ball doesn't actually see the bump.\n",
    "\n",
    "Let's see what the ball sees."
   ]
  },
  {
   "cell_type": "code",
   "execution_count": 13,
   "metadata": {
    "colab": {
     "base_uri": "https://localhost:8080/",
     "height": 283
    },
    "id": "76hesDAp7gNJ",
    "outputId": "fc711338-34a3-44fa-f663-7d73eb43ca5c"
   },
   "outputs": [
    {
     "data": {
      "text/plain": [
       "[<matplotlib.lines.Line2D at 0x7f7415ee4eb8>]"
      ]
     },
     "execution_count": 13,
     "metadata": {
      "tags": []
     },
     "output_type": "execute_result"
    },
    {
     "data": {
      "image/png": "[encoded data removed]",
      "text/plain": [
       "<Figure size 432x288 with 1 Axes>"
      ]
     },
     "metadata": {
      "needs_background": "light",
      "tags": []
     },
     "output_type": "display_data"
    }
   ],
   "source": [
    "new_y = []\n",
    "velocity = 0\n",
    "\n",
    "for i in range(len(X)-1):\n",
    "    cur_grad = gradient(X[i], X[i+1], y[i], y[i+1])\n",
    "    velocity = (momentum*velocity) + ((1-momentum)*cur_grad)\n",
    "    if(not new_y):\n",
    "        prev_y = 0\n",
    "    else:\n",
    "        prev_y = new_y[-1]\n",
    "    new_y.append((velocity*(X[i+1]-X[i]))+prev_y)\n",
    "\n",
    "plt.plot(X[:-1], new_y)"
   ]
  },
  {
   "cell_type": "markdown",
   "metadata": {
    "id": "nvSGJrOvJ7FV"
   },
   "source": [
    "Interesting. Our bump on the hill essentially disappeared. This is why our ball was able to cross it. This is also why the practice of smoothing our loss function is known as momentum in deep learning. It artificially gives the appearance of momentum (in reality, it's just a smoother graph)."
   ]
  },
  {
   "cell_type": "markdown",
   "metadata": {
    "id": "SM42COK3J8lf"
   },
   "source": [
    "## Exploring the math\n",
    "\n",
    "Looking into the math of momentum gives us a better understanding as to what's happening when we use the formula.\n",
    "\n",
    "Let's take a look at the formula for momentum. Our implementation above looked like the following:\n",
    "\n",
    "*velocity = Momentum(velocity) + gradient(1-momentum)*\n",
    "\n",
    "In practice, the portion of 1-momentum is omitted, simplifying it to this:\n",
    "\n",
    "*velocity = Momentum(velocity) + gradient*\n",
    "\n",
    "If you remember from above, we kept updating our velocity for every iteration/epoch. Keeping that in mind, for 5 iterations, our equation ends up looking like the following:\n",
    "\n",
    "*momentum(momentum(momentum(momentum(momentum(velocity)+gradient4)+gradient3)+gradient2)+gradient1)+gradient*\n",
    "\n",
    "Note: gradient1 represents the gradient in the past iteration, gradient2 represents the gradient in the past 2 iterations, etc.\n",
    "\n",
    "If you recall from our implementation of momentum above, you'll remember that our initial velocity was set to 0. This means that for our example of 5 iterations, our velocity will be 0, resulting in our equation to look like this:\n",
    "\n",
    "*momentum(momentum(momentum(momentum(momentum(0)+gradient4)+gradient3)+gradient2)+gradient1)+gradient*\n",
    "\n",
    "Performing simple arithmetic, we know that anything multiplied by 0 is 0, which leaves only our gradient to exist in our first iteration. That results in the following equation:\n",
    "\n",
    "*momentum(momentum(momentum(momentum(gradient4)+gradient3)+gradient2)+gradient1)+gradient*\n",
    "\n",
    "The above equation can be rearranged to look like the following:\n",
    "\n",
    "*gradient + momentum×gradient1 + momentum×momentum×gradient2 + momentum×momentum×momentum×gradient3 + momentum×momentum×momentum×momentum×gradient4*\n",
    "\n",
    "If we simplify the math above, our equation looks like this:\n",
    "\n",
    "*gradient + momentum(gradient1) + momentum<sup>2</sup>(gradient2) + momentum<sup>3</sup>(gradient3) + momentum<sup>4</sup>(gradient4)*"
   ]
  },
  {
   "cell_type": "markdown",
   "metadata": {
    "id": "3TdsN6ieNBYR"
   },
   "source": [
    "Interesting. Remember when I stated that momentum is just an equation for exponentially weighted averages? Well, that's exactly what we're seeing. We're seeing that as the iteration grows, the previous iteration gets raised to an exponent, causing it to get multiplied exponentially. Also, I stated above that the momentum value must be between 0 and 1. Any value which is between 0 and 1 (even if it's between 0 and -1) will get exponentially smaller as the number in the exponent grows. This means that the velocities in the past influence the current velocity (although exponentially less as the iterations grow) and thus result in a smoother graph.\n",
    "\n",
    "Plotting out our momentum values, we can see that in our case, when we set the momentum to 0.6, around the 6th iteration in the past, our value is essentially 0. This shows that although the values in the past iterations influence the current iteration, after a certain number of iterations, that influence becomes negligible."
   ]
  },
  {
   "cell_type": "code",
   "execution_count": 14,
   "metadata": {
    "colab": {
     "base_uri": "https://localhost:8080/",
     "height": 265
    },
    "id": "04q1wuo66VXH",
    "outputId": "67eeb480-5e78-45bc-c2a6-b52703fb0347"
   },
   "outputs": [
    {
     "data": {
      "image/png": "[encoded data removed]",
      "text/plain": [
       "<Figure size 432x288 with 1 Axes>"
      ]
     },
     "metadata": {
      "needs_background": "light",
      "tags": []
     },
     "output_type": "display_data"
    }
   ],
   "source": [
    "momentum = 0.6\n",
    "power = range(1,10)\n",
    "decay = []\n",
    "\n",
    "for i in power:\n",
    "    decay.append(momentum**i)\n",
    "plt.plot(power, decay)\n",
    "\n",
    "for x,y in zip(power, decay):\n",
    "    label = \"{:.1f}\".format(y)\n",
    "    plt.annotate(label, (x,y), textcoords=\"offset points\", xytext=(0,0))\n",
    "    \n",
    "plt.show()"
   ]
  },
  {
   "cell_type": "markdown",
   "metadata": {
    "id": "qx_AAEcINIQo"
   },
   "source": [
    "Hope that explanation made sense. Stepping through it always helps. If you're still having a bit of trouble, maybe write it out by hand. That helped me when I was learning momentum."
   ]
  },
  {
   "cell_type": "markdown",
   "metadata": {
    "id": "4NwdRaXxNWfH"
   },
   "source": [
    "## Implementing it in code\n",
    "Let's take a look at how momentum works in our model training loop.\n",
    "\n",
    "First thing first, we need some data. We're going to use PyTorch's randn function to create a tensor for our X values. The tensor will consist of random values, and will have the shape 1000×1000. We'll also create a tensor for our y values having the shape 1000×1. We'll make it binary – half the values will be set 0, while the other half will be set to 1."
   ]
  },
  {
   "cell_type": "code",
   "execution_count": 28,
   "metadata": {
    "id": "jBGSPZJuCrxV"
   },
   "outputs": [],
   "source": [
    "dim = 1000\n",
    "X = torch.randn((dim,dim), dtype=float)\n",
    "y = torch.cat((torch.zeros(dim//2, dtype=float), torch.ones(dim//2, dtype=float)))"
   ]
  },
  {
   "cell_type": "markdown",
   "metadata": {
    "id": "kdxqa3i0Ncak"
   },
   "source": [
    "Awesome. Now that we have our data, we're going to use PyTorch's Dataset and DataLoader functionality so that we can perform batch gradient descent (if you're unfamiliar with PyTorch's Dataset and DataLoader classes, then please check out [my article](https://cutt.ly/cg2ai-pytorch-dataloader-medium) which explains it in detail)."
   ]
  },
  {
   "cell_type": "code",
   "execution_count": 29,
   "metadata": {
    "id": "P5gKvlPtEfrc"
   },
   "outputs": [],
   "source": [
    "class ExampleDataset(Dataset):\n",
    "\n",
    "    def __init__(self, X, y):\n",
    "        self.X = X\n",
    "        self.y = y\n",
    "        self.len = len(self.X)\n",
    "\n",
    "    def __getitem__(self, index):\n",
    "        return self.X[index], self.y[index]\n",
    "\n",
    "    def __len__(self):\n",
    "        return self.len\n",
    "\n",
    "\n",
    "data = ExampleDataset(X, y)\n",
    "data_loader = DataLoader(dataset=data, batch_size=64, shuffle=True)"
   ]
  },
  {
   "cell_type": "markdown",
   "metadata": {
    "id": "GOx9jzqENgr-"
   },
   "source": [
    "We’re now ready to create our neural network architecture using PyTorch's nn.Module class. Our architecture will be very straightforward. It's a simple feed forward network consisting of 1 hidden layer, which will be half the size of our input layer (i.e., 500). To keep things simple, the activation function we'll use is the sigmoid function."
   ]
  },
  {
   "cell_type": "code",
   "execution_count": 17,
   "metadata": {
    "id": "Bh4vZkySBzh0"
   },
   "outputs": [],
   "source": [
    "class Model(nn.Module):\n",
    "\n",
    "    def __init__(self, dim):\n",
    "        super().__init__()\n",
    "        self.hidden_layer = nn.Linear(dim, dim//2)\n",
    "        self.last_layer = nn.Linear(dim//2, 1)\n",
    "        self.sigmoid = nn.Sigmoid()\n",
    "\n",
    "    def forward(self, X):\n",
    "        out = self.sigmoid(self.hidden_layer(X))\n",
    "        out = self.sigmoid(self.last_layer(out))\n",
    "        return out"
   ]
  },
  {
   "cell_type": "markdown",
   "metadata": {
    "id": "spZQduhmN3yB"
   },
   "source": [
    "## Training without momentum\n",
    "\n",
    "For the first round of training, we're going to train without momentum. It allows us to set a benchmark and compare the performance with and without momentum.\n",
    "\n",
    "Now, something we're going to do is use the GPU (i.e., CUDA) for this example. It's easy to use and it will allow us to train our model faster. All we need to do is place our model and our data onto the GPU by calling the .to function. This will alert PyTorch that we want to use the GPU when training and PyTorch will take care of the rest.\n",
    "\n",
    "Note: to turn the GPU on in Google Colab, go to Edit > Notebook settings and then chagne the hardware settings to GPU (the GPU is free to use).\n",
    "\n",
    "We'll instantiate our Model class, initialize our loss function and optimizer. We'll train for a total 2000 epochs with a learning rate of 1e-5. \n",
    "\n",
    "Note: momentum should be done with a small learning rate, otherwise we won't see optimal results.\n"
   ]
  },
  {
   "cell_type": "code",
   "execution_count": 30,
   "metadata": {
    "id": "QeQMSNTTB2wO"
   },
   "outputs": [],
   "source": [
    "device = torch.device(\"cuda\" if torch.cuda.is_available() else \"cpu\")\n",
    "epochs = 2000\n",
    "learning_rate = 1e-5\n",
    "\n",
    "model = Model(dim).to(device)\n",
    "bce = nn.BCELoss()\n",
    "optimizer = torch.optim.SGD(model.parameters(), lr = learning_rate)"
   ]
  },
  {
   "cell_type": "markdown",
   "metadata": {
    "id": "dsL2sdLmOEkz"
   },
   "source": [
    "Let's train our model!"
   ]
  },
  {
   "cell_type": "code",
   "execution_count": 31,
   "metadata": {
    "colab": {
     "base_uri": "https://localhost:8080/"
    },
    "id": "_6wjU5ZvB9q-",
    "outputId": "150a1ebb-c011-4155-8543-213aef6c1871"
   },
   "outputs": [
    {
     "name": "stdout",
     "output_type": "stream",
     "text": [
      "Train: epoch: 0 - loss: 0.69609\n",
      "Train: epoch: 100 - loss: 0.69451\n",
      "Train: epoch: 200 - loss: 0.69370\n",
      "Train: epoch: 300 - loss: 0.69344\n",
      "Train: epoch: 400 - loss: 0.69330\n",
      "Train: epoch: 500 - loss: 0.69313\n",
      "Train: epoch: 600 - loss: 0.69276\n",
      "Train: epoch: 700 - loss: 0.69286\n",
      "Train: epoch: 800 - loss: 0.69267\n",
      "Train: epoch: 900 - loss: 0.69253\n",
      "Train: epoch: 1000 - loss: 0.69249\n",
      "Train: epoch: 1100 - loss: 0.69232\n",
      "Train: epoch: 1200 - loss: 0.69206\n",
      "Train: epoch: 1300 - loss: 0.69231\n",
      "Train: epoch: 1400 - loss: 0.69201\n",
      "Train: epoch: 1500 - loss: 0.69211\n",
      "Train: epoch: 1600 - loss: 0.69189\n",
      "Train: epoch: 1700 - loss: 0.69201\n",
      "Train: epoch: 1800 - loss: 0.69127\n",
      "Train: epoch: 1900 - loss: 0.69150\n",
      "Train: epoch: 2000 - loss: 0.69125\n"
     ]
    }
   ],
   "source": [
    "epoch_loss = []\n",
    "model.train()\n",
    "for epoch in range(epochs+1):\n",
    "    iteration_loss = 0.\n",
    "    for i, data in enumerate(data_loader):\n",
    "        X, y = data\n",
    "        y_pred = model(X.float().to(device))\n",
    "        loss = bce(y_pred.to(device), y.reshape(-1,1).float().to(device))\n",
    "        iteration_loss += loss.item()\n",
    "\n",
    "        optimizer.zero_grad()\n",
    "        loss.backward()\n",
    "        optimizer.step()\n",
    "\n",
    "    epoch_loss.append(iteration_loss/(i+1))\n",
    "    if(epoch % 100 == 0):\n",
    "        print('Train: epoch: {0} - loss: {1:.5f}'.format(epoch, epoch_loss[-1]))"
   ]
  },
  {
   "cell_type": "markdown",
   "metadata": {
    "id": "vK4Be3UOOYJt"
   },
   "source": [
    "We're seeing a bit of a ping pong effect in our loss function.\n",
    "\n",
    "Let's plot our loss function and see how it looks."
   ]
  },
  {
   "cell_type": "code",
   "execution_count": 32,
   "metadata": {
    "colab": {
     "base_uri": "https://localhost:8080/",
     "height": 283
    },
    "id": "j0ap5uILJt7s",
    "outputId": "03ce2e98-0eee-4576-8023-0504ef356a2a"
   },
   "outputs": [
    {
     "data": {
      "text/plain": [
       "[<matplotlib.lines.Line2D at 0x7f7415fdea58>]"
      ]
     },
     "execution_count": 32,
     "metadata": {
      "tags": []
     },
     "output_type": "execute_result"
    },
    {
     "data": {
      "image/png": "[encoded data removed]",
      "text/plain": [
       "<Figure size 432x288 with 1 Axes>"
      ]
     },
     "metadata": {
      "needs_background": "light",
      "tags": []
     },
     "output_type": "display_data"
    }
   ],
   "source": [
    "plt.plot(epoch_loss)"
   ]
  },
  {
   "cell_type": "markdown",
   "metadata": {
    "id": "sss7FLkFOdtY"
   },
   "source": [
    "Now that we look closer at our loss function, we see it ping ponging a lot. This ping pong effect is exactly what momentum is meant to remedy."
   ]
  },
  {
   "cell_type": "markdown",
   "metadata": {
    "id": "pP7au9zKOlNF"
   },
   "source": [
    "## Training with momentum\n",
    "This time let's train with momentum. We'll reinitialize our model, loss and optimizer, but this time, we'll add momentum. We'll set the momentum to 0.9.\n",
    "\n",
    "To implement the momentum algorithm, we're going to need access to the gradients. The way we'll access them is by calling the named_parameters function on our model variable and then iterating through it to retrieve our gradients. If you remember the fundamentals of deep learning (if you don't, you can always refer to [my free book](https://cutt.ly/cg2nn-ch1-medium)), then you must've remembered that our gradients are connected to our weights. For our model, we have 2 sets of weights – 1 set for the weights connecting the input layer to the hidden layer and a 2nd set for the weights connecting the hidden layer to the output layer. If we iterate through the named_parameters, we'll see that it actually contains 4 items – the 2 sets of weights and the biases for those 2 sets of weights (2 biases in our case).\n",
    "\n",
    "To hold our velocities, we're going to use a dictionary. It'll hold our weights, so that we can use and update them."
   ]
  },
  {
   "cell_type": "code",
   "execution_count": 36,
   "metadata": {
    "id": "cfvcqksMN1Nj"
   },
   "outputs": [],
   "source": [
    "model = Model(dim).to(device)\n",
    "bce = nn.BCELoss()\n",
    "# we'll reuse the learning_rate variable from above\n",
    "optimizer = torch.optim.SGD(model.parameters(), lr = learning_rate)\n",
    "momentum = 0.9"
   ]
  },
  {
   "cell_type": "markdown",
   "metadata": {
    "id": "4m8TAm-sO8qd"
   },
   "source": [
    "Let's train our model with momentum!"
   ]
  },
  {
   "cell_type": "code",
   "execution_count": 37,
   "metadata": {
    "colab": {
     "base_uri": "https://localhost:8080/"
    },
    "id": "WAdsx8xnAG4f",
    "outputId": "a0dc14a5-65d4-4b63-943e-2feb6e3ca03f"
   },
   "outputs": [
    {
     "name": "stdout",
     "output_type": "stream",
     "text": [
      "Train: epoch: 0 - loss: 0.69902\n",
      "Train: epoch: 100 - loss: 0.69475\n",
      "Train: epoch: 200 - loss: 0.69378\n",
      "Train: epoch: 300 - loss: 0.69316\n",
      "Train: epoch: 400 - loss: 0.69348\n",
      "Train: epoch: 500 - loss: 0.69280\n",
      "Train: epoch: 600 - loss: 0.69277\n",
      "Train: epoch: 700 - loss: 0.69246\n",
      "Train: epoch: 800 - loss: 0.69217\n",
      "Train: epoch: 900 - loss: 0.69184\n",
      "Train: epoch: 1000 - loss: 0.69207\n",
      "Train: epoch: 1100 - loss: 0.69147\n",
      "Train: epoch: 1200 - loss: 0.69160\n",
      "Train: epoch: 1300 - loss: 0.69112\n",
      "Train: epoch: 1400 - loss: 0.69092\n",
      "Train: epoch: 1500 - loss: 0.69074\n",
      "Train: epoch: 1600 - loss: 0.69056\n",
      "Train: epoch: 1700 - loss: 0.69046\n",
      "Train: epoch: 1800 - loss: 0.68996\n",
      "Train: epoch: 1900 - loss: 0.68954\n",
      "Train: epoch: 2000 - loss: 0.68988\n"
     ]
    }
   ],
   "source": [
    "epoch_loss = []\n",
    "velocities = {}\n",
    "\n",
    "model.train()\n",
    "for epoch in range(epochs+1):\n",
    "    iteration_loss = 0.\n",
    "    for i, data in enumerate(data_loader):\n",
    "        X, y = data\n",
    "        y_pred = model(X.float().to(device))\n",
    "        loss = bce(y_pred.to(device), y.reshape(-1,1).float().to(device))\n",
    "        iteration_loss += loss.item()\n",
    "\n",
    "        optimizer.zero_grad()\n",
    "        loss.backward()\n",
    "        for name, w in model.named_parameters():\n",
    "            if name not in velocities:\n",
    "                velocities[name] = torch.zeros_like(w.grad).detach()\n",
    "            velocities[name].mul_(momentum).add_(w.grad)\n",
    "            w.grad = velocities[name]\n",
    "        optimizer.step()\n",
    "\n",
    "    epoch_loss.append(iteration_loss/(i+1))\n",
    "    if(epoch % 100 == 0):\n",
    "        print('Train: epoch: {0} - loss: {1:.5f}'.format(epoch, epoch_loss[-1]))"
   ]
  },
  {
   "cell_type": "markdown",
   "metadata": {
    "id": "sIew5XWuO3EL"
   },
   "source": [
    "The output so far looks promising. We see no ping ponging between the loss numbers.\n",
    "\n",
    "Let's plot our graph and see the full picture."
   ]
  },
  {
   "cell_type": "code",
   "execution_count": 38,
   "metadata": {
    "colab": {
     "base_uri": "https://localhost:8080/",
     "height": 285
    },
    "id": "tW9LdOpsBgdX",
    "outputId": "b7d90990-a8f4-49f4-c2a9-0fe80f497383"
   },
   "outputs": [
    {
     "data": {
      "text/plain": [
       "[<matplotlib.lines.Line2D at 0x7f7416224240>]"
      ]
     },
     "execution_count": 38,
     "metadata": {
      "tags": []
     },
     "output_type": "execute_result"
    },
    {
     "data": {
      "image/png": "[encoded data removed]",
      "text/plain": [
       "<Figure size 432x288 with 1 Axes>"
      ]
     },
     "metadata": {
      "needs_background": "light",
      "tags": []
     },
     "output_type": "display_data"
    }
   ],
   "source": [
    "plt.plot(epoch_loss)"
   ]
  },
  {
   "cell_type": "markdown",
   "metadata": {
    "id": "ZTPE_0YGPDnD"
   },
   "source": [
    "Amazing! The graph looks a lot smoother. Momentum works!"
   ]
  },
  {
   "cell_type": "markdown",
   "metadata": {
    "id": "WA4qfaycPU_f"
   },
   "source": [
    "## Momentum in PyTorch\n",
    "Thanks to the PyTorch team, we don't need to implement momentum from scratch whenever we use it. We can use SGD's built-in functionality for momentum. All we need to do is set the momentum parameter and we're good to go."
   ]
  },
  {
   "cell_type": "code",
   "execution_count": 39,
   "metadata": {
    "id": "7LTEfdgAITS_"
   },
   "outputs": [],
   "source": [
    "model = Model(dim).to(device)\n",
    "bce = nn.BCELoss()\n",
    "# we'll reuse the learning_rate and momentum variables from above\n",
    "optimizer = torch.optim.SGD(model.parameters(), lr=learning_rate, momentum=momentum)"
   ]
  },
  {
   "cell_type": "markdown",
   "metadata": {
    "id": "8nyhXeB0PZYK"
   },
   "source": [
    "Let's see it in action."
   ]
  },
  {
   "cell_type": "code",
   "execution_count": 40,
   "metadata": {
    "colab": {
     "base_uri": "https://localhost:8080/"
    },
    "id": "_18wizX7IYK0",
    "outputId": "1a61b102-1fe8-401d-db48-3084449a4c6e"
   },
   "outputs": [
    {
     "name": "stdout",
     "output_type": "stream",
     "text": [
      "Train: epoch: 0 - loss: 0.70020\n",
      "Train: epoch: 100 - loss: 0.69590\n",
      "Train: epoch: 200 - loss: 0.69464\n",
      "Train: epoch: 300 - loss: 0.69366\n",
      "Train: epoch: 400 - loss: 0.69249\n",
      "Train: epoch: 500 - loss: 0.69130\n",
      "Train: epoch: 600 - loss: 0.68982\n",
      "Train: epoch: 700 - loss: 0.68874\n",
      "Train: epoch: 800 - loss: 0.68764\n",
      "Train: epoch: 900 - loss: 0.68643\n",
      "Train: epoch: 1000 - loss: 0.68507\n",
      "Train: epoch: 1100 - loss: 0.68375\n",
      "Train: epoch: 1200 - loss: 0.68260\n",
      "Train: epoch: 1300 - loss: 0.68138\n",
      "Train: epoch: 1400 - loss: 0.68035\n",
      "Train: epoch: 1500 - loss: 0.67914\n",
      "Train: epoch: 1600 - loss: 0.67798\n",
      "Train: epoch: 1700 - loss: 0.67637\n",
      "Train: epoch: 1800 - loss: 0.67509\n",
      "Train: epoch: 1900 - loss: 0.67358\n",
      "Train: epoch: 2000 - loss: 0.67289\n"
     ]
    }
   ],
   "source": [
    "epoch_loss = []\n",
    "model.train()\n",
    "for epoch in range(epochs+1):\n",
    "    iteration_loss = 0.\n",
    "    for i, data in enumerate(data_loader):\n",
    "        X, y = data\n",
    "        y_pred = model(X.float().to(device))\n",
    "        loss = bce(y_pred.to(device), y.reshape(-1,1).float().to(device))\n",
    "        iteration_loss += loss.item()\n",
    "\n",
    "        optimizer.zero_grad()\n",
    "        loss.backward()\n",
    "\n",
    "        optimizer.step()\n",
    "\n",
    "    epoch_loss.append(iteration_loss/(i+1))\n",
    "    if(epoch % 100 == 0):\n",
    "        print('Train: epoch: {0} - loss: {1:.5f}'.format(epoch, epoch_loss[-1]))"
   ]
  },
  {
   "cell_type": "markdown",
   "metadata": {
    "id": "xX8i2LH2Pdxf"
   },
   "source": [
    "It performs as expected.\n",
    "\n",
    "Here's the loss plotted."
   ]
  },
  {
   "cell_type": "code",
   "execution_count": 41,
   "metadata": {
    "colab": {
     "base_uri": "https://localhost:8080/",
     "height": 283
    },
    "id": "uALzrsMbKEAd",
    "outputId": "94dde411-c7aa-4910-dcdf-36ee07999b65"
   },
   "outputs": [
    {
     "data": {
      "text/plain": [
       "[<matplotlib.lines.Line2D at 0x7f74162f8940>]"
      ]
     },
     "execution_count": 41,
     "metadata": {
      "tags": []
     },
     "output_type": "execute_result"
    },
    {
     "data": {
      "image/png": "[encoded data removed]",
      "text/plain": [
       "<Figure size 432x288 with 1 Axes>"
      ]
     },
     "metadata": {
      "needs_background": "light",
      "tags": []
     },
     "output_type": "display_data"
    }
   ],
   "source": [
    "plt.plot(epoch_loss)"
   ]
  },
  {
   "cell_type": "markdown",
   "metadata": {
    "id": "DCE_ooCrPhOs"
   },
   "source": [
    "Awesome! Works more or less like our momentum we made from scratch. It actually works better than our momentum, because the PyTorch code uses some tricks to improve performance. Nonetheless, congratulations! You now know the inner working of momentum."
   ]
  },
  {
   "cell_type": "markdown",
   "metadata": {
    "id": "hxib_l8QPn24"
   },
   "source": [
    "## Momentum flavours\n",
    "If you look at the SGD optimizer for PyTorch, you'll see that you can pass it a few arguments: momentum, dampening, weight_decay (read more about weight decay [here](https://cutt.ly/cg2ai-weight-decay-medium)), and nesterov. We already covered momentum, but dampening and nesterov are additions to the momentum algorithm.\n",
    "\n",
    "To simplify both, the momentum equation with the addition of a value for dampening and nesterov set to true looks like the following:\n",
    "\n",
    "*gradient + momentum(**momentum(velocity) + gradient**(1-dampening))*\n",
    "\n",
    "That's a mouthful. I bolded the original momentum equation for ease of reference. Maybe looking at the source code for PyTorch's SGD class will help. Run the following cell and scroll down until you see the code for momentum.\n"
   ]
  },
  {
   "cell_type": "code",
   "execution_count": 27,
   "metadata": {
    "id": "phPYYhTfNPq4"
   },
   "outputs": [],
   "source": [
    "torch.optim.SGD??"
   ]
  },
  {
   "cell_type": "markdown",
   "metadata": {
    "id": "OlEAv707P3pd"
   },
   "source": [
    "## Momentum in practice\n",
    "In practice, SGD with momentum is no longer used to get optimal results, rather the ADAM optimizer (and its flavours) is now the standard. The ADAM optimizer makes use of momentum along with other improvements. Having said that, if someone was to use SGD with momentum, then it's agreed upon that the value 0.9 generally works well.\n",
    "\n",
    "That wraps up everything momentum. Hope that clears up the topic of momentum. Again, stepping through the code always helps. Maybe go through it and tweak the numbers to really get a good understanding of momentum. Playing with the code is always the best way to learn."
   ]
  }
 ],
 "metadata": {
  "accelerator": "GPU",
  "colab": {
   "name": "Momentum for Deep Learning Made Easy (How-To).ipynb",
   "provenance": []
  },
  "kernelspec": {
   "display_name": "Python 3",
   "language": "python",
   "name": "python3"
  },
  "language_info": {
   "codemirror_mode": {
    "name": "ipython",
    "version": 3
   },
   "file_extension": ".py",
   "mimetype": "text/x-python",
   "name": "python",
   "nbconvert_exporter": "python",
   "pygments_lexer": "ipython3",
   "version": "3.7.1"
  }
 },
 "nbformat": 4,
 "nbformat_minor": 1
}
