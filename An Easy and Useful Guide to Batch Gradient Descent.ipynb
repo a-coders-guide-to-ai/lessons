{
 "cells": [
  {
   "cell_type": "markdown",
   "metadata": {
    "id": "968MW8wNN10_"
   },
   "source": [
    "# An Easy and Useful Guide to Batch Gradient Descent\n",
    "-------------------------\n",
    "## What is Batch Gradient Descent?\n",
    "The question you're probably asking right now is, \"what is batch gradient descent and how does it differ from normal gradient descent?\" Batch gradient descent splits the training data up into smaller chunks (batches) and performs a forward propagation and backpropagation by the batch. This allows us to update our weights multiple times in a single epoch.\n",
    "\n",
    "## What Are the Benefits?\n",
    "Performing calculations on small batches of the data, rather than all our data at once, is beneficial in a few ways. To name a few:\n",
    "\n",
    "1. It's less straining on memory. Think about if we had a million 4K images . Always holding a million 4K images in memory is extremely taxing.\n",
    "2. Because we're performing multiple weight updates in a single epoch, we're able to converge (get to the bottom of our hill) in less epochs.\n",
    "3. Splitting up our data into batches makes it so that our model is only looking at a random sample of our data at every iteration. This allows it to generalize better. Better generalization = less chance of overfitting.\n",
    "\n",
    "## Why Does It Work?\n",
    "One of the questions I had when I first came across batch gradient descent was, \"we're asked to gather as much data as we can only to break that data up into small chunks? I don't get it… \"\n",
    "\n",
    "I'm going to go over an example (with code) to show why breaking our data into smaller chunks actually works.\n",
    "\n",
    "Before I show the example, we're going to have to import a few libraries."
   ]
  },
  {
   "cell_type": "code",
   "execution_count": null,
   "metadata": {
    "id": "ISW9al8FxJre"
   },
   "outputs": [],
   "source": [
    "from sklearn.datasets import make_regression\n",
    "import matplotlib.pyplot as plt\n",
    "import random\n",
    "from IPython import display\n",
    "import time"
   ]
  },
  {
   "cell_type": "markdown",
   "metadata": {
    "id": "Dj9nwALQ_J1c"
   },
   "source": [
    "Now that we've imported our libraries, using sklearn, we're going to make an example dataset. It's going to be a regression line made up of 1000 points."
   ]
  },
  {
   "cell_type": "code",
   "execution_count": null,
   "metadata": {
    "id": "Txek08FSxNZQ"
   },
   "outputs": [],
   "source": [
    "X, y = make_regression(n_samples=1000, n_features=1, bias=5, noise=10, random_state=762)\n",
    "y = y.reshape(-1, 1)"
   ]
  },
  {
   "cell_type": "markdown",
   "metadata": {
    "id": "8hE0ghpl_NkQ"
   },
   "source": [
    "Let's look at our example dataset by using matplotlib to plot it.\n"
   ]
  },
  {
   "cell_type": "code",
   "execution_count": null,
   "metadata": {
    "colab": {
     "base_uri": "https://localhost:8080/",
     "height": 265
    },
    "id": "Or44GilFxOdp",
    "outputId": "8b0208a8-9e8a-4d3a-f895-f0fd9e19a016"
   },
   "outputs": [
    {
     "data": {
      "image/png": "[encoded data removed]",
      "text/plain": [
       "<Figure size 432x288 with 1 Axes>"
      ]
     },
     "metadata": {
      "needs_background": "light",
      "tags": []
     },
     "output_type": "display_data"
    }
   ],
   "source": [
    "plt.scatter(X, y)\n",
    "plt.show()"
   ]
  },
  {
   "cell_type": "markdown",
   "metadata": {
    "id": "wCYA6Wx4_Qa3"
   },
   "source": [
    "Cool. It looks exactly as we expected. 1000 points and a regression line.\n",
    "\n",
    "Now, something I want to show is that when we take a random sample of 64 points (i.e., our batch size), our random sample is a good representation of our full dataset.\n",
    "\n",
    "To see this in action, let's plot 10 different sets each containing 64 different random samples."
   ]
  },
  {
   "cell_type": "code",
   "execution_count": null,
   "metadata": {
    "colab": {
     "base_uri": "https://localhost:8080/",
     "height": 269
    },
    "id": "rFU67XNIyWmp",
    "outputId": "9f8a2643-b4cb-4bca-e3d2-c788c0deb71a"
   },
   "outputs": [
    {
     "data": {
      "image/png": "[encoded data removed]",
      "text/plain": [
       "<Figure size 432x288 with 1 Axes>"
      ]
     },
     "metadata": {
      "needs_background": "light",
      "tags": []
     },
     "output_type": "display_data"
    }
   ],
   "source": [
    "for i in range(10):\n",
    "  display.display(plt.gcf())\n",
    "  display.clear_output(wait=True)\n",
    "\n",
    "  rand_indices = random.sample(range(1000), k=64)\n",
    "  plt.xlim(-4,4)\n",
    "  plt.ylim(-200,200)\n",
    "  \n",
    "  plt.scatter(X[rand_indices], y[rand_indices])\n",
    "  plt.show()\n",
    "  time.sleep(0.5)"
   ]
  },
  {
   "cell_type": "markdown",
   "metadata": {
    "id": "2UugiHms_Ucu"
   },
   "source": [
    "I hope it's making sense. Although we're only plotting 64 random points, those 64 points give us a very good understanding of the shape and direction of the 1000 points. The argument batch gradient descent makes is that given a good representation of a problem (this good representation is assumed to be present when we have a lot of data), a small random batch (e.g., 64 data points) is sufficient to generalize our larger dataset.\n",
    "\n",
    "## Implementing Batch Gradient Descent\n",
    "Now that we've gone over the what and the why, let's go over the how. We'll end this article off with how to implement batch gradient descent in code.\n",
    "\n",
    "Let's start off by importing a few useful libraries."
   ]
  },
  {
   "cell_type": "code",
   "execution_count": 1,
   "metadata": {
    "_cell_guid": "b1076dfc-b9ad-4769-8c92-a6c4dae69d19",
    "_uuid": "8f2839f25d086af736a60e9eeb907d3b93b6e0e5",
    "id": "C5qF86LqN11N"
   },
   "outputs": [],
   "source": [
    "import pandas as pd\n",
    "import torch\n",
    "from sklearn.model_selection import train_test_split\n",
    "from sklearn.preprocessing import StandardScaler\n",
    "import torch.nn as nn"
   ]
  },
  {
   "cell_type": "markdown",
   "metadata": {
    "id": "SCk0Ielq_ZaV"
   },
   "source": [
    "Next, let's import our dataset and do a little bit of preprocessing on it. The dataset we'll be working with is the Pima Indians Diabetes dataset. We'll import it, split it into a train and test set and then standardize both the train and the test sets, while converting them into PyTorch tensors."
   ]
  },
  {
   "cell_type": "code",
   "execution_count": 2,
   "metadata": {
    "id": "A2P4akI_x7a8"
   },
   "outputs": [],
   "source": [
    "df = pd.read_csv(r'https://raw.githubusercontent.com/a-coders-guide-to-ai/a-coders-guide-to-neural-networks/master/data/diabetes.csv')\n",
    "\n",
    "X = df[df.columns[:-1]]\n",
    "y = df['Outcome']\n",
    "X = X.values\n",
    "y = torch.tensor(y.values)\n",
    "\n",
    "X_train, X_test, y_train, y_test = train_test_split(X, y, test_size=0.33, random_state=42)\n",
    "\n",
    "scaler = StandardScaler()\n",
    "scaler.fit(X_train)\n",
    "X_train = torch.tensor(scaler.transform(X_train))\n",
    "X_test = torch.tensor(scaler.transform(X_test))"
   ]
  },
  {
   "cell_type": "markdown",
   "metadata": {
    "id": "hQSbCWxo_b8w"
   },
   "source": [
    "Now, we're going to need our neural network. We'll build a single layer feed forward neural network, consisting of 4 nodes in its hidden layer."
   ]
  },
  {
   "cell_type": "code",
   "execution_count": null,
   "metadata": {
    "id": "8WfI8g9LN11q"
   },
   "outputs": [],
   "source": [
    "class Model(nn.Module):\n",
    "    \n",
    "    def __init__(self):\n",
    "        super().__init__()\n",
    "        self.hidden_linear = nn.Linear(8, 4)\n",
    "        self.output_linear = nn.Linear(4, 1)\n",
    "        self.sigmoid = nn.Sigmoid()\n",
    "        \n",
    "    def forward(self, X):\n",
    "        hidden_output = self.sigmoid(self.hidden_linear(X))\n",
    "        output = self.sigmoid(self.output_linear(hidden_output))\n",
    "        return output"
   ]
  },
  {
   "cell_type": "markdown",
   "metadata": {
    "id": "_XOUr3qj_hXQ"
   },
   "source": [
    "Let's create a function to show accuracy as a metric (our loss is BCE). I like doing this because BCE isn't really human readable, but accuracy is very human friendly. We'll also setup a few variables to reuse."
   ]
  },
  {
   "cell_type": "code",
   "execution_count": null,
   "metadata": {
    "id": "OoZhHj_eXpJt"
   },
   "outputs": [],
   "source": [
    "def accuracy(y_pred, y):\n",
    "    return torch.sum((((y_pred>=0.5)+0).reshape(1,-1)==y)+0).item()/y.shape[0]\n",
    "\n",
    "epochs = 1000+1\n",
    "print_epoch = 100\n",
    "lr = 1e-2"
   ]
  },
  {
   "cell_type": "markdown",
   "metadata": {
    "id": "Kq1AiNJh_k7R"
   },
   "source": [
    "Our print_epoch variable just tells our code how often we want to see our metrics (i.e., BCE and accuracy).\n",
    "\n",
    "Let's instantiate our Model class and set our loss (BCE) and optimizer."
   ]
  },
  {
   "cell_type": "code",
   "execution_count": null,
   "metadata": {
    "id": "0RR2H8RDN11r"
   },
   "outputs": [],
   "source": [
    "model = Model()\n",
    "BCE = nn.BCELoss()\n",
    "optimizer = torch.optim.SGD(model.parameters(), lr = lr)"
   ]
  },
  {
   "cell_type": "markdown",
   "metadata": {
    "id": "Y7C8LVQ6_yLj"
   },
   "source": [
    "Awesome, we can finally train our model. Let's first do it without batch gradient descent and then with. It'll help us compare."
   ]
  },
  {
   "cell_type": "code",
   "execution_count": null,
   "metadata": {
    "colab": {
     "base_uri": "https://localhost:8080/"
    },
    "id": "dWVvypHQN11s",
    "outputId": "1afb212b-19c2-4b54-e08d-cef8e82819dd"
   },
   "outputs": [
    {
     "name": "stdout",
     "output_type": "stream",
     "text": [
      "Train: epoch: 0 - loss: 0.70378; acc: 0.438\n",
      "Test: epoch: 0 - loss: 0.70231; acc: 0.425\n",
      "Train: epoch: 100 - loss: 0.67698; acc: 0.640\n",
      "Test: epoch: 100 - loss: 0.67343; acc: 0.654\n",
      "Train: epoch: 200 - loss: 0.66399; acc: 0.646\n",
      "Test: epoch: 200 - loss: 0.65932; acc: 0.661\n",
      "Train: epoch: 300 - loss: 0.65624; acc: 0.646\n",
      "Test: epoch: 300 - loss: 0.65105; acc: 0.661\n",
      "Train: epoch: 400 - loss: 0.65050; acc: 0.646\n",
      "Test: epoch: 400 - loss: 0.64519; acc: 0.661\n",
      "Train: epoch: 500 - loss: 0.64554; acc: 0.646\n",
      "Test: epoch: 500 - loss: 0.64035; acc: 0.661\n",
      "Train: epoch: 600 - loss: 0.64084; acc: 0.646\n",
      "Test: epoch: 600 - loss: 0.63593; acc: 0.661\n",
      "Train: epoch: 700 - loss: 0.63617; acc: 0.646\n",
      "Test: epoch: 700 - loss: 0.63165; acc: 0.661\n",
      "Train: epoch: 800 - loss: 0.63141; acc: 0.646\n",
      "Test: epoch: 800 - loss: 0.62739; acc: 0.661\n",
      "Train: epoch: 900 - loss: 0.62650; acc: 0.646\n",
      "Test: epoch: 900 - loss: 0.62304; acc: 0.661\n",
      "Train: epoch: 1000 - loss: 0.62141; acc: 0.646\n",
      "Test: epoch: 1000 - loss: 0.61859; acc: 0.661\n"
     ]
    }
   ],
   "source": [
    "train_loss = []\n",
    "test_loss = []\n",
    "\n",
    "for epoch in range(epochs):\n",
    "    model.train()\n",
    "    y_pred = model(X_train.float())\n",
    "    loss = BCE(y_pred, y_train.reshape(-1,1).float())\n",
    "    train_loss.append(loss)\n",
    "    \n",
    "    optimizer.zero_grad()\n",
    "    loss.backward()\n",
    "    optimizer.step()\n",
    "    \n",
    "    if(epoch % print_epoch == 0):\n",
    "        print('Train: epoch: {0} - loss: {1:.5f}; acc: {2:.3f}'.format(epoch, train_loss[-1], accuracy(y_pred, y_train)))\n",
    "        \n",
    "    model.eval()\n",
    "    y_pred = model(X_test.float())\n",
    "    loss = BCE(y_pred, y_test.reshape(-1,1).float())\n",
    "    test_loss.append(loss)\n",
    "    \n",
    "    if(epoch % print_epoch == 0):\n",
    "        print('Test: epoch: {0} - loss: {1:.5f}; acc: {2:.3f}'.format(epoch, test_loss[-1], accuracy(y_pred, y_test)))"
   ]
  },
  {
   "cell_type": "markdown",
   "metadata": {
    "id": "AMpDYMOd_0Zt"
   },
   "source": [
    "As expected, the results aren't great. 1000 epochs isn't that much for such a complex dataset, when not using batch gradient descent.\n",
    "\n",
    "Let's rerun it, except this time, with batch gradient descent. We'll reinstantiate our Model class and reset our loss (BCE) and optimizer. We'll also set our batch size to 64."
   ]
  },
  {
   "cell_type": "code",
   "execution_count": null,
   "metadata": {
    "id": "eJ1v4uISaEsv"
   },
   "outputs": [],
   "source": [
    "model = Model()\n",
    "BCE = nn.BCELoss()\n",
    "optimizer = torch.optim.SGD(model.parameters(), lr = lr)\n",
    "batch_size = 64"
   ]
  },
  {
   "cell_type": "markdown",
   "metadata": {
    "id": "Uz_uYtyy_7ds"
   },
   "source": [
    "Great. Now that we have that done, let's run it and see the difference."
   ]
  },
  {
   "cell_type": "code",
   "execution_count": null,
   "metadata": {
    "colab": {
     "base_uri": "https://localhost:8080/"
    },
    "id": "Ml2-Rznwa52l",
    "outputId": "5e611dbb-2a65-4b3d-8697-8f3a54504374"
   },
   "outputs": [
    {
     "name": "stdout",
     "output_type": "stream",
     "text": [
      "Train: epoch: 0 - loss: 0.67945; acc: 0.672\n",
      "Test: epoch: 0 - loss: 0.68173; acc: 0.630\n",
      "Train: epoch: 100 - loss: 0.59933; acc: 0.688\n",
      "Test: epoch: 100 - loss: 0.59577; acc: 0.713\n",
      "Train: epoch: 200 - loss: 0.53685; acc: 0.766\n",
      "Test: epoch: 200 - loss: 0.54513; acc: 0.764\n",
      "Train: epoch: 300 - loss: 0.49951; acc: 0.781\n",
      "Test: epoch: 300 - loss: 0.52110; acc: 0.740\n",
      "Train: epoch: 400 - loss: 0.48326; acc: 0.781\n",
      "Test: epoch: 400 - loss: 0.51550; acc: 0.736\n",
      "Train: epoch: 500 - loss: 0.47704; acc: 0.781\n",
      "Test: epoch: 500 - loss: 0.51673; acc: 0.736\n",
      "Train: epoch: 600 - loss: 0.47478; acc: 0.781\n",
      "Test: epoch: 600 - loss: 0.51948; acc: 0.740\n",
      "Train: epoch: 700 - loss: 0.47386; acc: 0.781\n",
      "Test: epoch: 700 - loss: 0.52198; acc: 0.736\n",
      "Train: epoch: 800 - loss: 0.47327; acc: 0.797\n",
      "Test: epoch: 800 - loss: 0.52378; acc: 0.744\n",
      "Train: epoch: 900 - loss: 0.47261; acc: 0.797\n",
      "Test: epoch: 900 - loss: 0.52489; acc: 0.744\n",
      "Train: epoch: 1000 - loss: 0.47176; acc: 0.797\n",
      "Test: epoch: 1000 - loss: 0.52541; acc: 0.744\n"
     ]
    }
   ],
   "source": [
    "train_loss = []\n",
    "test_loss = []\n",
    "\n",
    "for epoch in range(epochs):\n",
    "    model.train()\n",
    "    for i in range(0, len(X_train), batch_size):\n",
    "      if(i+batch_size > len(X_train)-1):\n",
    "        train_loss.append(loss)\n",
    "        if(epoch % print_epoch == 0):\n",
    "          print('Train: epoch: {0} - loss: {1:.5f}; acc: {2:.3f}'.format(epoch, train_loss[-1], accuracy(y_pred, y_train[beg:end])))\n",
    "\n",
    "        end = -1\n",
    "      else:\n",
    "        end = i+batch_size\n",
    "\n",
    "      beg = i\n",
    "\n",
    "      y_pred = model(X_train[beg:end].float())\n",
    "      loss = BCE(y_pred, y_train[beg:end].reshape(-1,1).float())     \n",
    "      \n",
    "      optimizer.zero_grad()\n",
    "      loss.backward()\n",
    "      optimizer.step()\n",
    "        \n",
    "\n",
    "    model.eval()\n",
    "    y_pred = model(X_test.float())\n",
    "    loss = BCE(y_pred, y_test.reshape(-1,1).float())\n",
    "    test_loss.append(loss)\n",
    "    \n",
    "    if(epoch % print_epoch == 0):\n",
    "        print('Test: epoch: {0} - loss: {1:.5f}; acc: {2:.3f}'.format(epoch, test_loss[-1], accuracy(y_pred, y_test)))\n"
   ]
  },
  {
   "cell_type": "markdown",
   "metadata": {
    "id": "dAK5zbFE_-Oa"
   },
   "source": [
    "Interesting. Before we get into the results, you'll see that the code is similar, but I have an extra for loop. This loop is what allows us to iterate through our data, splitting it into batches of size 64.\n",
    "\n",
    "In terms of the result, you'll see that it significantly outperforms training our model without batch gradient descent. In the same amount of epochs, our model jumped from 66% accuracy on the test set to 74% and our BCE went from 0.62 to 0.53."
   ]
  }
 ],
 "metadata": {
  "colab": {
   "collapsed_sections": [],
   "name": "An Easy and Useful Guide to Batch Gradient Descent.ipynb",
   "provenance": []
  },
  "kernelspec": {
   "display_name": "Python 3",
   "language": "python",
   "name": "python3"
  },
  "language_info": {
   "codemirror_mode": {
    "name": "ipython",
    "version": 3
   },
   "file_extension": ".py",
   "mimetype": "text/x-python",
   "name": "python",
   "nbconvert_exporter": "python",
   "pygments_lexer": "ipython3",
   "version": "3.7.1"
  }
 },
 "nbformat": 4,
 "nbformat_minor": 1
}
