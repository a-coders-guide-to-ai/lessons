{
 "cells": [
  {
   "cell_type": "markdown",
   "metadata": {
    "id": "FuzJTQ-I75sx"
   },
   "source": [
    "# Why 'A' in Deep Learning Stands for the Awesome Adam Optimizer\n",
    "\n",
    "The Adam optimizer, along with its different flavours, are arguably the most popular and effective optimizers in deep learning today. The optimizer is a combination of 2 equations which significantly advanced the vanilla SGD: momentum and RMSProp. In this article, we'll cover how the 2 equations come together to make the Adam optimizer. I wrote about both the equations in previous posts, so if you need a refresher on them or this is the first time you're hearing about them, then I highly suggest [my article on momentum](https://cutt.ly/cg2ai-momentum-medium) and [my other article on RMSProp](https://cutt.ly/cg2ai-rmsprop-medium). I cover both equations in extensive detail in those posts.\n",
    "\n",
    "To continue with Adam; when going over momentum's and RMSProp's implementations, something you probably realized is that momentum replaces the gradient (i.e., the numerator), while RMSProp divides the gradient (i.e., the denominator). If you combine them both (see figure below), you now have momentum as the numerator and RMSProp as the denominator. This now becomes the equation for adaptive momentum estimation, also known as Adam. What I'm essentially saying is that if you've gone over my previous posts on [momentum](https://cutt.ly/cg2ai-momentum-medium) and [RMSProp](https://cutt.ly/cg2ai-rmsprop-medium), then you almost know all of Adam and you can easily skim through the rest of this post."
   ]
  },
  {
   "cell_type": "markdown",
   "metadata": {
    "id": "FJrMx6aTLQ3W"
   },
   "source": [
    "<img src=\"images/adam%20equations.PNG?raw=true\"  width=\"600\" height=\"600\">"
   ]
  },
  {
   "cell_type": "markdown",
   "metadata": {
    "id": "8_SsyBL7Bn9o"
   },
   "source": [
    "## Establishing Our Benchmark\n",
    "\n",
    "Like always, better then explaining just with words, let's take a look at how to implement the Adam optimizer from scratch, with the help of PyTorch.\n",
    "\n",
    "First thing first, let's import the relevant packages for this lesson."
   ]
  },
  {
   "cell_type": "code",
   "execution_count": 1,
   "metadata": {
    "id": "JUvpraTlwh0C"
   },
   "outputs": [],
   "source": [
    "import torch\n",
    "import torch.nn as nn\n",
    "from torch.utils.data import Dataset\n",
    "from torch.utils.data import DataLoader\n",
    "import matplotlib.pyplot as plt"
   ]
  },
  {
   "cell_type": "markdown",
   "metadata": {
    "id": "CozYHPgFHNy0"
   },
   "source": [
    "Now, we're going to need some data. Like the previous posts, we'll use some mock data that we'll generate. It's sufficient to demonstrate Adam and how it compares to vanilla SGD. So let's come up with some data and, with the help of PyTorch's Dataset and DataLoader, create our dataset."
   ]
  },
  {
   "cell_type": "code",
   "execution_count": null,
   "metadata": {
    "id": "P5gKvlPtEfrc"
   },
   "outputs": [],
   "source": [
    "dim = 1000\n",
    "X = torch.randn((dim,dim), dtype=float)\n",
    "y = torch.cat((torch.zeros(dim//2, dtype=float), torch.ones(dim//2, dtype=float)))\n",
    "\n",
    "class ExampleDataset(Dataset):\n",
    "\n",
    "    def __init__(self, X, y):\n",
    "        self.X = X\n",
    "        self.y = y\n",
    "        self.len = len(self.X)\n",
    "\n",
    "    def __getitem__(self, index):\n",
    "        return self.X[index], self.y[index]\n",
    "\n",
    "    def __len__(self):\n",
    "        return self.len\n",
    "\n",
    "\n",
    "data = ExampleDataset(X, y)\n",
    "data_loader = DataLoader(dataset=data, batch_size=64, shuffle=True)"
   ]
  },
  {
   "cell_type": "markdown",
   "metadata": {
    "id": "8kXZjm3xHQuj"
   },
   "source": [
    "Now we're ready to create our model architecture. Just as the previous articles, it'll consist of 1 hidden layer which is half the size of input layer."
   ]
  },
  {
   "cell_type": "code",
   "execution_count": null,
   "metadata": {
    "id": "Bh4vZkySBzh0"
   },
   "outputs": [],
   "source": [
    "class Model(nn.Module):\n",
    "\n",
    "    def __init__(self, dim):\n",
    "        super().__init__()\n",
    "        self.hidden_layer = nn.Linear(dim, dim//2)\n",
    "        self.last_layer = nn.Linear(dim//2, 1)\n",
    "        self.sigmoid = nn.Sigmoid()\n",
    "\n",
    "    def forward(self, X):\n",
    "        out = self.sigmoid(self.hidden_layer(X))\n",
    "        out = self.sigmoid(self.last_layer(out))\n",
    "        return out"
   ]
  },
  {
   "cell_type": "markdown",
   "metadata": {
    "id": "GhdoG98bHUHc"
   },
   "source": [
    "Let's initiate our model, set the number of epochs we'll train for along with the learning rate. Something else you'll see is a variable by the name of print_iter. The variable is just to print the loss at every 20 epochs (I use it multiple places in this article, hence the variable)."
   ]
  },
  {
   "cell_type": "code",
   "execution_count": null,
   "metadata": {
    "id": "QeQMSNTTB2wO"
   },
   "outputs": [],
   "source": [
    "device = torch.device(\"cuda\" if torch.cuda.is_available() else \"cpu\")\n",
    "epochs = 200\n",
    "print_iter = 20\n",
    "learning_rate = 1e-5\n",
    "\n",
    "model = Model(dim).to(device)\n",
    "bce = nn.BCELoss()\n",
    "optimizer = torch.optim.SGD(model.parameters(), lr = learning_rate)"
   ]
  },
  {
   "cell_type": "markdown",
   "metadata": {
    "id": "klZ6LKdRHcBv"
   },
   "source": [
    "It's time train our vanilla SGD to set a benchmark."
   ]
  },
  {
   "cell_type": "code",
   "execution_count": null,
   "metadata": {
    "colab": {
     "base_uri": "https://localhost:8080/"
    },
    "id": "_6wjU5ZvB9q-",
    "outputId": "d626531c-8dc4-4730-9a37-7679fa1e7869"
   },
   "outputs": [
    {
     "name": "stdout",
     "output_type": "stream",
     "text": [
      "Train: epoch: 0 - loss: 0.72450\n",
      "Train: epoch: 20 - loss: 0.71801\n",
      "Train: epoch: 40 - loss: 0.71395\n",
      "Train: epoch: 60 - loss: 0.71068\n",
      "Train: epoch: 80 - loss: 0.70823\n",
      "Train: epoch: 100 - loss: 0.70526\n",
      "Train: epoch: 120 - loss: 0.70404\n",
      "Train: epoch: 140 - loss: 0.70200\n",
      "Train: epoch: 160 - loss: 0.69992\n",
      "Train: epoch: 180 - loss: 0.69825\n",
      "Train: epoch: 200 - loss: 0.69813\n"
     ]
    }
   ],
   "source": [
    "epoch_loss = []\n",
    "model.train()\n",
    "for epoch in range(epochs+1):\n",
    "    iteration_loss = 0.\n",
    "    for i, data in enumerate(data_loader):\n",
    "        X, y = data\n",
    "        y_pred = model(X.float().to(device))\n",
    "        loss = bce(y_pred.to(device), y.reshape(-1,1).float().to(device))\n",
    "        iteration_loss += loss.item()\n",
    "\n",
    "        optimizer.zero_grad()\n",
    "        loss.backward()\n",
    "        optimizer.step()\n",
    "\n",
    "    epoch_loss.append(iteration_loss/(i+1))\n",
    "    if(epoch % print_iter == 0):\n",
    "        print('Train: epoch: {0} - loss: {1:.5f}'.format(epoch, epoch_loss[-1]))"
   ]
  },
  {
   "cell_type": "markdown",
   "metadata": {
    "id": "EZKyqvsLHeUB"
   },
   "source": [
    "Let's plot it out."
   ]
  },
  {
   "cell_type": "code",
   "execution_count": null,
   "metadata": {
    "colab": {
     "base_uri": "https://localhost:8080/",
     "height": 282
    },
    "id": "j0ap5uILJt7s",
    "outputId": "b969b732-3694-463e-8542-c56ef0c512d0"
   },
   "outputs": [
    {
     "data": {
      "text/plain": [
       "[<matplotlib.lines.Line2D at 0x7f87e1bad1d0>]"
      ]
     },
     "execution_count": 62,
     "metadata": {
      "tags": []
     },
     "output_type": "execute_result"
    },
    {
     "data": {
      "image/png": "[encoded data removed]",
      "text/plain": [
       "<Figure size 432x288 with 1 Axes>"
      ]
     },
     "metadata": {
      "needs_background": "light",
      "tags": []
     },
     "output_type": "display_data"
    }
   ],
   "source": [
    "plt.plot(epoch_loss)"
   ]
  },
  {
   "cell_type": "markdown",
   "metadata": {
    "id": "xyFiZFHFHidh"
   },
   "source": [
    "The curve isn't really smooth. It's accompanied by many bumps, but it's our benchmark."
   ]
  },
  {
   "cell_type": "markdown",
   "metadata": {
    "id": "YEEroyqIiBoF"
   },
   "source": [
    "## Adam Optimizer from Scratch\n",
    "\n",
    "Now it's time for the Adam optimizer. We'll use the same learning rate, epochs and architecture from above, but we'll set 2 more variables – our momentum and RMSProp values. We'll set them to the recommended values, which are 0.9 and 0.999 respectively."
   ]
  },
  {
   "cell_type": "code",
   "execution_count": null,
   "metadata": {
    "id": "cfvcqksMN1Nj"
   },
   "outputs": [],
   "source": [
    "model = Model(dim).to(device)\n",
    "bce = nn.BCELoss()\n",
    "# we'll reuse the learning_rate variable from above\n",
    "optimizer = torch.optim.SGD(model.parameters(), lr = learning_rate)\n",
    "momentum = 0.9\n",
    "rmsprop = 0.999"
   ]
  },
  {
   "cell_type": "markdown",
   "metadata": {
    "id": "4YWuzgNNOBvt"
   },
   "source": [
    "Let's train our model. Just as we did in the momentum and RMSProp lessons, we'll access SGD's param names to update them according to the Adam implementation (I explain params extensively in [my weight decay post](https://cutt.ly/cg2ai-weight-decay-medium), in case you need a refresher)."
   ]
  },
  {
   "cell_type": "code",
   "execution_count": null,
   "metadata": {
    "colab": {
     "base_uri": "https://localhost:8080/"
    },
    "id": "WAdsx8xnAG4f",
    "outputId": "e9f185f6-1b5d-49f0-8baa-c2232702abe7"
   },
   "outputs": [
    {
     "name": "stdout",
     "output_type": "stream",
     "text": [
      "Train: epoch: 0 - loss: 0.70315\n",
      "Train: epoch: 20 - loss: 0.66631\n",
      "Train: epoch: 40 - loss: 0.63974\n",
      "Train: epoch: 60 - loss: 0.61420\n",
      "Train: epoch: 80 - loss: 0.58909\n",
      "Train: epoch: 100 - loss: 0.56423\n",
      "Train: epoch: 120 - loss: 0.53887\n",
      "Train: epoch: 140 - loss: 0.51529\n",
      "Train: epoch: 160 - loss: 0.49054\n",
      "Train: epoch: 180 - loss: 0.46696\n",
      "Train: epoch: 200 - loss: 0.44573\n"
     ]
    }
   ],
   "source": [
    "epoch_loss = []\n",
    "momentum_vals = {}\n",
    "rmsprop_vals = {}\n",
    "iteration = 1\n",
    "\n",
    "model.train()\n",
    "for epoch in range(epochs+1):\n",
    "    iteration_loss = 0.\n",
    "    for i, data in enumerate(data_loader):\n",
    "        X, y = data\n",
    "        y_pred = model(X.float().to(device))\n",
    "        loss = bce(y_pred.to(device), y.reshape(-1,1).float().to(device))\n",
    "        iteration_loss += loss.item()\n",
    "\n",
    "        optimizer.zero_grad()\n",
    "        loss.backward()\n",
    "        for name, w in model.named_parameters():\n",
    "            if name not in momentum_vals:\n",
    "                momentum_vals[name] = torch.zeros_like(w.grad).detach()\n",
    "                rmsprop_vals[name] = torch.zeros_like(w.grad).detach()\n",
    "\n",
    "            #momentum*gradients + (1-momentum)*gradients\n",
    "            momentum_vals[name].mul_(momentum).add_(w.grad, alpha=1 - momentum)\n",
    "            #rmsprop*gradients + (1-rmsprop)*gradients**2\n",
    "            rmsprop_vals[name].mul_(rmsprop).addcmul_(w.grad, w.grad, value=1 - rmsprop)\n",
    "\n",
    "            #bias correction\n",
    "            m_bias_correction = 1 - momentum**iteration\n",
    "            r_bias_correction = 1 - rmsprop**iteration          \n",
    "\n",
    "            #momentum update step\n",
    "            w.grad = momentum_vals[name]/m_bias_correction\n",
    "            #rmsprop update step\n",
    "            w.grad.divide_(torch.sqrt(rmsprop_vals[name]/r_bias_correction)) \n",
    "    optimizer.step()\n",
    "    iteration += 1\n",
    "      \n",
    "\n",
    "    epoch_loss.append(iteration_loss/(i+1))\n",
    "    if(epoch % print_iter == 0):\n",
    "        print('Train: epoch: {0} - loss: {1:.5f}'.format(epoch, epoch_loss[-1]))"
   ]
  },
  {
   "cell_type": "markdown",
   "metadata": {
    "id": "Wg9Q4B7pH5u4"
   },
   "source": [
    "The results are significantly better. Let's plot it out and see how it performed."
   ]
  },
  {
   "cell_type": "code",
   "execution_count": null,
   "metadata": {
    "colab": {
     "base_uri": "https://localhost:8080/",
     "height": 282
    },
    "id": "tW9LdOpsBgdX",
    "outputId": "f3341cf7-53a7-4363-f347-4d75a1178749"
   },
   "outputs": [
    {
     "data": {
      "text/plain": [
       "[<matplotlib.lines.Line2D at 0x7f87e1b1f650>]"
      ]
     },
     "execution_count": 65,
     "metadata": {
      "tags": []
     },
     "output_type": "execute_result"
    },
    {
     "data": {
      "image/png": "[encoded data removed]",
      "text/plain": [
       "<Figure size 432x288 with 1 Axes>"
      ]
     },
     "metadata": {
      "needs_background": "light",
      "tags": []
     },
     "output_type": "display_data"
    }
   ],
   "source": [
    "plt.plot(epoch_loss)"
   ]
  },
  {
   "cell_type": "markdown",
   "metadata": {
    "id": "BdyJZFJAIHoe"
   },
   "source": [
    "That's an immense improvement. A good exercise would be to see how Adam stacks up against momentum and RMSProp. If you try it outside of this article, you should see it to be quite an improvement relative to when using either of them alone."
   ]
  },
  {
   "cell_type": "markdown",
   "metadata": {},
   "source": [
    "## Bias Correction Explained\n",
    "\n",
    "Before we move on, if you've gone over my [momentum](https://cutt.ly/cg2ai-momentum-medium) and [RMSProp](https://cutt.ly/cg2ai-rmsprop-medium) posts, you probably noticed a difference. The first difference is that the 1-momentum isn't used in practice for when implementing momentum, but it is for its implementation in Adam. The second difference is the bias correction equations we've put in place for both momentum and RMSProp. They're essentially the same equation, minus for momentum we used the momentum value and for RMSProp we used it's respective value, but they're essentially identical.\n",
    "\n",
    "The equation for momentum's bias correction equation is the following: <br/>\n",
    "*momentum/(1 - momentum**iteration)*\n",
    "\n",
    "Let's go over it in a little more detail. If you remember from [the momentum post](https://cutt.ly/cg2ai-momentum-medium), we mentioned that, for example, if our slope looks like this:"
   ]
  },
  {
   "cell_type": "code",
   "execution_count": 2,
   "metadata": {
    "colab": {
     "base_uri": "https://localhost:8080/",
     "height": 282
    },
    "id": "gnRzE8dtwmgC",
    "outputId": "77ebb9e6-51b0-417b-a656-e261d0789fe6"
   },
   "outputs": [
    {
     "data": {
      "text/plain": [
       "[<matplotlib.lines.Line2D at 0x7fd5a27b3550>]"
      ]
     },
     "execution_count": 2,
     "metadata": {
      "tags": []
     },
     "output_type": "execute_result"
    },
    {
     "data": {
      "image/png": "[encoded data removed]",
      "text/plain": [
       "<Figure size 432x288 with 1 Axes>"
      ]
     },
     "metadata": {
      "needs_background": "light",
      "tags": []
     },
     "output_type": "display_data"
    }
   ],
   "source": [
    "X = torch.arange(0,1,1e-2)\n",
    "y = 0.2*((X-0.5)**2)\n",
    "y[25] = y[25]+2e-3\n",
    "\n",
    "plt.plot(X, y)"
   ]
  },
  {
   "cell_type": "markdown",
   "metadata": {
    "id": "BRjRVMljIR_h"
   },
   "source": [
    "Momentum comes and makes the slope appear to look like this:"
   ]
  },
  {
   "cell_type": "code",
   "execution_count": 3,
   "metadata": {
    "colab": {
     "base_uri": "https://localhost:8080/",
     "height": 282
    },
    "id": "76hesDAp7gNJ",
    "outputId": "29b12c5e-2419-4196-c8d8-71afe8c19ea9"
   },
   "outputs": [
    {
     "data": {
      "text/plain": [
       "[<matplotlib.lines.Line2D at 0x7fd5a1f447d0>]"
      ]
     },
     "execution_count": 3,
     "metadata": {
      "tags": []
     },
     "output_type": "execute_result"
    },
    {
     "data": {
      "image/png": "[encoded data removed]",
      "text/plain": [
       "<Figure size 432x288 with 1 Axes>"
      ]
     },
     "metadata": {
      "needs_background": "light",
      "tags": []
     },
     "output_type": "display_data"
    }
   ],
   "source": [
    "def gradient(x1, x2, y1, y2):\n",
    "    return ((y2-y1)/(x2-x1)).item()\n",
    "\n",
    "new_y = []\n",
    "velocity = 0\n",
    "momentum=0.9\n",
    "\n",
    "for i in range(len(X)-1):\n",
    "    cur_grad = gradient(X[i], X[i+1], y[i], y[i+1])\n",
    "    velocity = (momentum*velocity) + ((1-momentum)*cur_grad)\n",
    "    if(not new_y):\n",
    "        prev_y = y[0]\n",
    "    else:\n",
    "        prev_y = new_y[-1]\n",
    "    new_y.append((velocity*(X[i+1]-X[i]))+prev_y)\n",
    "\n",
    "plt.plot(X[:-1], new_y, c='C1')"
   ]
  },
  {
   "cell_type": "markdown",
   "metadata": {
    "id": "bBYlAsq6SL38"
   },
   "source": [
    "When we put those 2 plots above side-by-side, this is what we get:"
   ]
  },
  {
   "cell_type": "code",
   "execution_count": 4,
   "metadata": {
    "colab": {
     "base_uri": "https://localhost:8080/",
     "height": 282
    },
    "id": "a6u_dF-wR_Og",
    "outputId": "a8fec14b-64d8-4bef-fe97-b5a65cf78070"
   },
   "outputs": [
    {
     "data": {
      "text/plain": [
       "[<matplotlib.lines.Line2D at 0x7fd5a1ec73d0>]"
      ]
     },
     "execution_count": 4,
     "metadata": {
      "tags": []
     },
     "output_type": "execute_result"
    },
    {
     "data": {
      "image/png": "[encoded data removed]",
      "text/plain": [
       "<Figure size 432x288 with 1 Axes>"
      ]
     },
     "metadata": {
      "needs_background": "light",
      "tags": []
     },
     "output_type": "display_data"
    }
   ],
   "source": [
    "plt.plot(X, y, c='C0')\n",
    "plt.plot(X[:-1], new_y, c='C1')"
   ]
  },
  {
   "cell_type": "markdown",
   "metadata": {
    "id": "vuCFc96-IjKj"
   },
   "source": [
    "We can see that momentum smooths out our original parabola, but it also looks to have a “slow start”. It doesn't have the same shape. Rather, our momentum graph has more of a tail before getting to the dip, whereas the original parabola didn't. That tail is what I'm referring to when I mentioned a “slow start”. This occurs because, if you remember from our momentum lesson, at the beginning, the momentum equation doesn't have much (or any) past information to average out the smoothing. It get's better as it goes on, because there's much more \"past\" information to average out. This is why I referred to it as a “slow start”. The good news is that the bias correction equation helps quite a bit and gets rid of that tail at the beginning.\n",
    "\n",
    "The denominator of the bias correction equation gets raised to the power of the iteration. Since the momentum (and RMSProp) value is a decimal between 0 and 1, the higher the power is, the smaller it gets. That means that as we move further with our iterations, the denominator moves closer to 1 (because 1 minus a very small number is essentially 1). Now, if we look at our momentum equation with the bias correction, we get something that now looks like this (putting it side-by-side with the original parabola):"
   ]
  },
  {
   "cell_type": "code",
   "execution_count": null,
   "metadata": {
    "colab": {
     "base_uri": "https://localhost:8080/",
     "height": 282
    },
    "id": "2OhwhWjyYsMC",
    "outputId": "d32753d1-e98b-45c6-a90e-a5969d6f06b9"
   },
   "outputs": [
    {
     "data": {
      "text/plain": [
       "[<matplotlib.lines.Line2D at 0x7f87e1c394d0>]"
      ]
     },
     "execution_count": 56,
     "metadata": {
      "tags": []
     },
     "output_type": "execute_result"
    },
    {
     "data": {
      "image/png": "[encoded data removed]",
      "text/plain": [
       "<Figure size 432x288 with 1 Axes>"
      ]
     },
     "metadata": {
      "needs_background": "light",
      "tags": []
     },
     "output_type": "display_data"
    }
   ],
   "source": [
    "new_y = []\n",
    "velocity = 0\n",
    "\n",
    "for i in range(len(X)-1):\n",
    "    cur_grad = gradient(X[i], X[i+1], y[i], y[i+1])\n",
    "    velocity = (momentum*velocity) + ((1-momentum)*cur_grad)\n",
    "    velocity_corrected = velocity/(1-(momentum**(i+1)))\n",
    "    if(not new_y):\n",
    "        prev_y = y[0]\n",
    "    else:\n",
    "        prev_y = new_y[-1]\n",
    "    new_y.append((velocity_corrected*(X[i+1]-X[i]))+prev_y)\n",
    "\n",
    "plt.plot(X, y, c='C0')\n",
    "plt.plot(X[:-1], new_y, c='C1')"
   ]
  },
  {
   "cell_type": "markdown",
   "metadata": {
    "id": "kRdjKrzQIu46"
   },
   "source": [
    "Yes, the dip is bigger, but it no longer starts off slow. It doesn't have a tail at the beginning, rather, it gets right into it. This helps us optimize our equations even further.\n",
    "\n",
    "*Note: the corrected momentum and RMSProp only take the original value places when multiplying by the learning rate, but do not replace the original momentum and RMSProp values for the next iteration. The uncorrected values will be used to update the equations in the next iteration.*\n",
    "\n",
    "Hope that helps in making sense of the Adam optimizer."
   ]
  },
  {
   "cell_type": "markdown",
   "metadata": {
    "id": "WA4qfaycPU_f"
   },
   "source": [
    "## Adam Using PyTorch\n",
    "\n",
    "The good news is that PyTorch has a ready to use Adam class which we can take advantage of, instead of reimplementing it in practice.\n",
    "Let's take a look.\n",
    "\n",
    "We'll use the same architecture and learning rate from above, but we won't have to set the momentum or RMSProp values. PyTorch uses the recommended 0.9 and 0.999 values which we used above."
   ]
  },
  {
   "cell_type": "code",
   "execution_count": null,
   "metadata": {
    "id": "7LTEfdgAITS_"
   },
   "outputs": [],
   "source": [
    "model = Model(dim).to(device)\n",
    "bce = nn.BCELoss()\n",
    "# we'll reuse the learning_rate from above\n",
    "optimizer = torch.optim.Adam(model.parameters(), lr=learning_rate)"
   ]
  },
  {
   "cell_type": "markdown",
   "metadata": {
    "id": "8nyhXeB0PZYK"
   },
   "source": [
    "Let's train our model with PyTorch's Adam optimizer and see how it stacks up against ours."
   ]
  },
  {
   "cell_type": "code",
   "execution_count": null,
   "metadata": {
    "colab": {
     "base_uri": "https://localhost:8080/"
    },
    "id": "_18wizX7IYK0",
    "outputId": "26f2b798-c5b8-4141-a175-5badb262e54f"
   },
   "outputs": [
    {
     "name": "stdout",
     "output_type": "stream",
     "text": [
      "Train: epoch: 0 - loss: 0.70853\n",
      "Train: epoch: 20 - loss: 0.66472\n",
      "Train: epoch: 40 - loss: 0.63899\n",
      "Train: epoch: 60 - loss: 0.61415\n",
      "Train: epoch: 80 - loss: 0.58931\n",
      "Train: epoch: 100 - loss: 0.56417\n",
      "Train: epoch: 120 - loss: 0.53942\n",
      "Train: epoch: 140 - loss: 0.51637\n",
      "Train: epoch: 160 - loss: 0.49089\n",
      "Train: epoch: 180 - loss: 0.46984\n",
      "Train: epoch: 200 - loss: 0.44524\n"
     ]
    }
   ],
   "source": [
    "epoch_loss = []\n",
    "model.train()\n",
    "for epoch in range(epochs+1):\n",
    "    iteration_loss = 0.\n",
    "    for i, data in enumerate(data_loader):\n",
    "        X, y = data\n",
    "        y_pred = model(X.float().to(device))\n",
    "        loss = bce(y_pred.to(device), y.reshape(-1,1).float().to(device))\n",
    "        iteration_loss += loss.item()\n",
    "\n",
    "        optimizer.zero_grad()\n",
    "        loss.backward()\n",
    "\n",
    "        optimizer.step()\n",
    "\n",
    "    epoch_loss.append(iteration_loss/(i+1))\n",
    "    if(epoch % print_iter == 0):\n",
    "        print('Train: epoch: {0} - loss: {1:.5f}'.format(epoch, epoch_loss[-1]))"
   ]
  },
  {
   "cell_type": "markdown",
   "metadata": {
    "id": "-fyln7peI8N0"
   },
   "source": [
    "It looks to be almost identical. We'll plot it out."
   ]
  },
  {
   "cell_type": "code",
   "execution_count": null,
   "metadata": {
    "colab": {
     "base_uri": "https://localhost:8080/",
     "height": 282
    },
    "id": "JAFpwMSySkNl",
    "outputId": "2e75261a-59bc-46b5-8e3d-fd2bfdd06432"
   },
   "outputs": [
    {
     "data": {
      "text/plain": [
       "[<matplotlib.lines.Line2D at 0x7f87e1a95810>]"
      ]
     },
     "execution_count": 68,
     "metadata": {
      "tags": []
     },
     "output_type": "execute_result"
    },
    {
     "data": {
      "image/png": "[encoded data removed]",
      "text/plain": [
       "<Figure size 432x288 with 1 Axes>"
      ]
     },
     "metadata": {
      "needs_background": "light",
      "tags": []
     },
     "output_type": "display_data"
    }
   ],
   "source": [
    "plt.plot(epoch_loss)"
   ]
  },
  {
   "cell_type": "markdown",
   "metadata": {
    "id": "aivd3qpZI-IK"
   },
   "source": [
    "Awesome! It looks identical. Congratulations, you just recreated PyTorch's Adam optimizer from scratch!\n",
    "\n",
    "That's the end of this post. I understand that it may be a little tough to ingest the first time around, so go over it again. It took me quite a bit of time before I really understood it."
   ]
  }
 ],
 "metadata": {
  "accelerator": "GPU",
  "colab": {
   "collapsed_sections": [],
   "name": "Why 'A' in Deep Learning Stands for the Awesome Adam Optimizer.ipynb",
   "provenance": []
  },
  "kernelspec": {
   "display_name": "Python 3",
   "language": "python",
   "name": "python3"
  },
  "language_info": {
   "codemirror_mode": {
    "name": "ipython",
    "version": 3
   },
   "file_extension": ".py",
   "mimetype": "text/x-python",
   "name": "python",
   "nbconvert_exporter": "python",
   "pygments_lexer": "ipython3",
   "version": "3.7.1"
  }
 },
 "nbformat": 4,
 "nbformat_minor": 1
}
